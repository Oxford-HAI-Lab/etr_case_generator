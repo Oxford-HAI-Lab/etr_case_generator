{
 "cells": [
  {
   "cell_type": "code",
   "execution_count": 1,
   "metadata": {},
   "outputs": [],
   "source": [
    "from etr_case_generator.generator import ETRCaseGenerator\n",
    "from etr_case_generator.reasoning_problem import ReasoningProblem\n",
    "from etr_case_generator.ontology import ELEMENTS\n",
    "\n",
    "from pyetr import View, State, SetOfStates\n",
    "from pyetr.inference import default_inference_procedure, default_procedure_does_it_follow"
   ]
  },
  {
   "cell_type": "code",
   "execution_count": 2,
   "metadata": {},
   "outputs": [],
   "source": [
    "r = ReasoningProblem(generator=ETRCaseGenerator(ELEMENTS))\n",
    "r.update_premises(premises=[View.from_str(\"Ax {C(x)}\")])"
   ]
  },
  {
   "cell_type": "code",
   "execution_count": 3,
   "metadata": {},
   "outputs": [],
   "source": [
    "r.update_query(query=View.from_str(\"{C(B())}\"))"
   ]
  },
  {
   "cell_type": "code",
   "execution_count": 4,
   "metadata": {},
   "outputs": [
    {
     "data": {
      "text/plain": [
       "False"
      ]
     },
     "execution_count": 4,
     "metadata": {},
     "output_type": "execute_result"
    }
   ],
   "source": [
    "default_procedure_does_it_follow([View.from_str(\"Ax {C(x)}\")], View.from_str(\"{C(B())}\"))"
   ]
  },
  {
   "cell_type": "code",
   "execution_count": 5,
   "metadata": {},
   "outputs": [
    {
     "name": "stdout",
     "output_type": "stream",
     "text": [
      "Consider the following premises:\n",
      "\n",
      "1. For all X, X is quantum-stable.\n",
      "\n",
      "Does it follow that stellarite is quantum-stable?\n",
      "\n",
      "Answer using 'YES' or 'NO' ONLY.\n"
     ]
    }
   ],
   "source": [
    "print(r.full_prose())"
   ]
  },
  {
   "cell_type": "code",
   "execution_count": 6,
   "metadata": {},
   "outputs": [
    {
     "data": {
      "text/plain": [
       "({0}, '')"
      ]
     },
     "execution_count": 6,
     "metadata": {},
     "output_type": "execute_result"
    }
   ],
   "source": [
    "r.etr_conclusion"
   ]
  },
  {
   "cell_type": "code",
   "execution_count": 7,
   "metadata": {},
   "outputs": [],
   "source": [
    "view_queue = [View.get_falsum()]"
   ]
  },
  {
   "cell_type": "code",
   "execution_count": 9,
   "metadata": {},
   "outputs": [
    {
     "name": "stdout",
     "output_type": "stream",
     "text": [
      "{P(y)Q(b)R(c)}\n",
      "{y, b, c}\n",
      "U={y} E={}\n",
      "U={y} E={}\n",
      "{P(u)Q(b)R(p)}\n",
      "{p, u, b}\n",
      "U={y,u} E={p}\n",
      "U={u} E={p}\n"
     ]
    },
    {
     "data": {
      "text/plain": [
       "∃p ∀u {P(u)Q(b())R(p)}"
      ]
     },
     "execution_count": 9,
     "metadata": {},
     "output_type": "execute_result"
    }
   ],
   "source": [
    "from pyetr import View, State, SetOfStates\n",
    "\n",
    "from etr_case_generator.mutate_view import random_existential_quantify, random_universal_quantify\n",
    "\n",
    "v = View.from_str(\"{P(a())Q(b())R(c())}\")\n",
    "v = random_universal_quantify(v)\n",
    "v = random_existential_quantify(v)\n",
    "v = random_universal_quantify(v)\n",
    "v"
   ]
  },
  {
   "cell_type": "code",
   "execution_count": 18,
   "metadata": {},
   "outputs": [
    {
     "data": {
      "text/plain": [
       "U={x} E={y}"
      ]
     },
     "execution_count": 18,
     "metadata": {},
     "output_type": "execute_result"
    }
   ],
   "source": [
    "from pyetr import DependencyRelation, ArbitraryObject\n",
    "\n",
    "DependencyRelation(\n",
    "    universals=[ArbitraryObject(name=\"x\")],\n",
    "    existentials=[],\n",
    "    dependencies=[],\n",
    ").fusion(\n",
    "    DependencyRelation(\n",
    "    universals=[],\n",
    "    existentials=[ArbitraryObject(name=\"y\")],\n",
    "    dependencies=[],\n",
    "))"
   ]
  },
  {
   "cell_type": "code",
   "execution_count": 16,
   "metadata": {},
   "outputs": [
    {
     "data": {
      "text/plain": [
       "[∀x {R(x)},\n",
       " ∀x {R(x)},\n",
       " ∀x {R(x)},\n",
       " ∀x {~R(x)},\n",
       " {R(U())},\n",
       " {}^{},\n",
       " {~R(U())},\n",
       " ∀x {~R(x)},\n",
       " {A(T())R(U())},\n",
       " {A(T())}^{},\n",
       " {~A(T()),~R(U())},\n",
       " ∃x {~A(x),~R(U())}]"
      ]
     },
     "execution_count": 16,
     "metadata": {},
     "output_type": "execute_result"
    }
   ],
   "source": [
    "v = view_queue.pop(0)\n",
    "if not (v.is_falsum or v.is_verum): view_queue.append(v)\n",
    "view_queue.append(mutate_view(v))\n",
    "[v for v in view_queue]"
   ]
  },
  {
   "cell_type": "code",
   "execution_count": 19,
   "metadata": {},
   "outputs": [
    {
     "data": {
      "text/plain": [
       "('there is a(n) X such that either X is not corrosive, or harmonium is not magnetic',\n",
       " {'R': 'magnetic', 'A': 'corrosive', 'U': 'harmonium'})"
      ]
     },
     "execution_count": 19,
     "metadata": {},
     "output_type": "execute_result"
    }
   ],
   "source": [
    "from etr_case_generator.generator import ETRCaseGenerator\n",
    "from etr_case_generator.ontology import ELEMENTS\n",
    "\n",
    "g = ETRCaseGenerator(ELEMENTS)\n",
    "\n",
    "g.view_to_natural_language(view_queue[-1])"
   ]
  },
  {
   "cell_type": "code",
   "execution_count": 18,
   "metadata": {},
   "outputs": [
    {
     "ename": "AttributeError",
     "evalue": "'ETRCaseGenerator' object has no attribute 'add_quantification'",
     "output_type": "error",
     "traceback": [
      "\u001b[0;31m---------------------------------------------------------------------------\u001b[0m",
      "\u001b[0;31mAttributeError\u001b[0m                            Traceback (most recent call last)",
      "Cell \u001b[0;32mIn[18], line 1\u001b[0m\n\u001b[0;32m----> 1\u001b[0m g\u001b[38;5;241m.\u001b[39mview_to_natural_language(\u001b[43mg\u001b[49m\u001b[38;5;241;43m.\u001b[39;49m\u001b[43madd_quantification\u001b[49m(view_queue[\u001b[38;5;241m0\u001b[39m]))\n",
      "\u001b[0;31mAttributeError\u001b[0m: 'ETRCaseGenerator' object has no attribute 'add_quantification'"
     ]
    }
   ],
   "source": [
    "g.view_to_natural_language(g.add_quantification(view_queue[0]))"
   ]
  },
  {
   "cell_type": "code",
   "execution_count": null,
   "metadata": {},
   "outputs": [
    {
     "data": {
      "text/plain": [
       "[{}]"
      ]
     },
     "execution_count": 33,
     "metadata": {},
     "output_type": "execute_result"
    }
   ],
   "source": []
  },
  {
   "cell_type": "code",
   "execution_count": 7,
   "metadata": {},
   "outputs": [],
   "source": [
    "m.merge_random_unary_predicate()"
   ]
  },
  {
   "cell_type": "code",
   "execution_count": 8,
   "metadata": {},
   "outputs": [
    {
     "data": {
      "text/plain": [
       "{S(L())B()I(B()),A()S(L())I(B())}^{C()}"
      ]
     },
     "execution_count": 8,
     "metadata": {},
     "output_type": "execute_result"
    }
   ],
   "source": [
    "m.view"
   ]
  },
  {
   "cell_type": "code",
   "execution_count": 13,
   "metadata": {},
   "outputs": [
    {
     "data": {
      "text/plain": [
       "['A', 'C', 'B']"
      ]
     },
     "execution_count": 13,
     "metadata": {},
     "output_type": "execute_result"
    }
   ],
   "source": [
    "[a.predicate.name for a in m.view.atoms]"
   ]
  },
  {
   "cell_type": "code",
   "execution_count": 4,
   "metadata": {},
   "outputs": [
    {
     "data": {
      "text/plain": [
       "{B()}^{C()}"
      ]
     },
     "execution_count": 4,
     "metadata": {},
     "output_type": "execute_result"
    }
   ],
   "source": [
    "m.factor_random_atom()\n",
    "m.view"
   ]
  },
  {
   "cell_type": "code",
   "execution_count": 8,
   "metadata": {},
   "outputs": [
    {
     "data": {
      "text/plain": [
       "{C()}^{}"
      ]
     },
     "execution_count": 8,
     "metadata": {},
     "output_type": "execute_result"
    }
   ],
   "source": [
    "m.factor_random_atom()\n",
    "m.view"
   ]
  },
  {
   "cell_type": "code",
   "execution_count": null,
   "metadata": {},
   "outputs": [
    {
     "ename": "AttributeError",
     "evalue": "'State' object has no attribute 'division'",
     "output_type": "error",
     "traceback": [
      "\u001b[0;31m---------------------------------------------------------------------------\u001b[0m",
      "\u001b[0;31mAttributeError\u001b[0m                            Traceback (most recent call last)",
      "Cell \u001b[0;32mIn[138], line 2\u001b[0m\n\u001b[1;32m      1\u001b[0m st \u001b[38;5;241m=\u001b[39m \u001b[38;5;28mlist\u001b[39m(View\u001b[38;5;241m.\u001b[39mfrom_str(\u001b[38;5;124m\"\u001b[39m\u001b[38;5;124m{\u001b[39m\u001b[38;5;124mA()B()}\u001b[39m\u001b[38;5;124m\"\u001b[39m)\u001b[38;5;241m.\u001b[39mstage)[\u001b[38;5;241m0\u001b[39m]\n\u001b[0;32m----> 2\u001b[0m \u001b[43mst\u001b[49m\u001b[38;5;241;43m.\u001b[39;49m\u001b[43mdivision\u001b[49m()\n",
      "\u001b[0;31mAttributeError\u001b[0m: 'State' object has no attribute 'division'"
     ]
    }
   ],
   "source": [
    "st = list(View.from_str(\"{A()B()}\").stage)[0]\n",
    "from pyetr.view import state_division\n",
    "state_division(st, )"
   ]
  },
  {
   "cell_type": "code",
   "execution_count": 106,
   "metadata": {},
   "outputs": [],
   "source": [
    "ab = View.from_str(\"{A(), B()}\")\n",
    "a = View.from_str(\"{A()}\")\n",
    "b = View.from_str(\"{B()}\")\n",
    "c = View.from_str(\"{C()}\")"
   ]
  },
  {
   "cell_type": "code",
   "execution_count": 125,
   "metadata": {},
   "outputs": [
    {
     "data": {
      "text/plain": [
       "{s(),0,q()r()p()}"
      ]
     },
     "execution_count": 125,
     "metadata": {},
     "output_type": "execute_result"
    }
   ],
   "source": [
    "res = View.from_str(\"{p()q()r(), q()s(), p()}\").factor(View.from_str(\"{p(), q()}\"))\n",
    "res"
   ]
  },
  {
   "cell_type": "code",
   "execution_count": 129,
   "metadata": {},
   "outputs": [
    {
     "data": {
      "text/plain": [
       "{s(),0,q()r()p()}"
      ]
     },
     "execution_count": 129,
     "metadata": {},
     "output_type": "execute_result"
    }
   ],
   "source": [
    "res.answer(View.get_verum())"
   ]
  },
  {
   "cell_type": "code",
   "execution_count": 126,
   "metadata": {},
   "outputs": [
    {
     "data": {
      "text/plain": [
       "{q()r()p()}"
      ]
     },
     "execution_count": 126,
     "metadata": {},
     "output_type": "execute_result"
    }
   ],
   "source": [
    "res.answer(res)"
   ]
  },
  {
   "cell_type": "code",
   "execution_count": 115,
   "metadata": {},
   "outputs": [
    {
     "data": {
      "text/plain": [
       "{A(),B()}"
      ]
     },
     "execution_count": 115,
     "metadata": {},
     "output_type": "execute_result"
    }
   ],
   "source": [
    "ab.product(View.get_verum())"
   ]
  },
  {
   "cell_type": "code",
   "execution_count": 121,
   "metadata": {},
   "outputs": [],
   "source": [
    "ans = ab.factor(a)"
   ]
  },
  {
   "cell_type": "code",
   "execution_count": 123,
   "metadata": {},
   "outputs": [
    {
     "data": {
      "text/plain": [
       "{B()}"
      ]
     },
     "execution_count": 123,
     "metadata": {},
     "output_type": "execute_result"
    }
   ],
   "source": [
    "ans.answer(ans)"
   ]
  },
  {
   "cell_type": "code",
   "execution_count": 73,
   "metadata": {},
   "outputs": [],
   "source": [
    "a = list(v.atoms)[0]\n",
    "a_v = View.with_defaults(stage=SetOfStates({State({a})}))"
   ]
  },
  {
   "cell_type": "code",
   "execution_count": 93,
   "metadata": {},
   "outputs": [
    {
     "data": {
      "text/plain": [
       "{A()}"
      ]
     },
     "execution_count": 93,
     "metadata": {},
     "output_type": "execute_result"
    }
   ],
   "source": [
    "a_v"
   ]
  },
  {
   "cell_type": "code",
   "execution_count": 90,
   "metadata": {},
   "outputs": [
    {
     "data": {
      "text/plain": [
       "{B(),0}"
      ]
     },
     "execution_count": 90,
     "metadata": {},
     "output_type": "execute_result"
    }
   ],
   "source": [
    "v.factor(a_v) #.product(View.get_falsum())"
   ]
  },
  {
   "cell_type": "code",
   "execution_count": 46,
   "metadata": {},
   "outputs": [
    {
     "data": {
      "text/plain": [
       "{0,B()}"
      ]
     },
     "execution_count": 46,
     "metadata": {},
     "output_type": "execute_result"
    }
   ],
   "source": [
    "v.division(View.from_str(\"{A()}\")).factor(View.get_verum())"
   ]
  },
  {
   "cell_type": "code",
   "execution_count": 40,
   "metadata": {},
   "outputs": [
    {
     "data": {
      "text/plain": [
       "{C()B(),A()C()}"
      ]
     },
     "execution_count": 40,
     "metadata": {},
     "output_type": "execute_result"
    }
   ],
   "source": [
    "v.merge(View.from_str(\"{C()}\"))"
   ]
  },
  {
   "cell_type": "markdown",
   "metadata": {},
   "source": [
    "# Editing Views with Generator"
   ]
  },
  {
   "cell_type": "code",
   "execution_count": 2,
   "metadata": {},
   "outputs": [],
   "source": [
    "g = ETRCaseGenerator(ontology=ELEMENTS)"
   ]
  },
  {
   "cell_type": "code",
   "execution_count": 3,
   "metadata": {},
   "outputs": [],
   "source": [
    "view = View.from_str(\"{P(a()), Q(b())}^{R(a())}\")"
   ]
  },
  {
   "cell_type": "code",
   "execution_count": 4,
   "metadata": {},
   "outputs": [],
   "source": [
    "# ret = g.add_quantification(view)"
   ]
  },
  {
   "cell_type": "code",
   "execution_count": 12,
   "metadata": {},
   "outputs": [
    {
     "data": {
      "text/plain": [
       "b"
      ]
     },
     "execution_count": 12,
     "metadata": {},
     "output_type": "execute_result"
    }
   ],
   "source": [
    "a = list(view.atoms)[0]\n",
    "t = a.terms[0]\n",
    "t"
   ]
  },
  {
   "cell_type": "code",
   "execution_count": 13,
   "metadata": {},
   "outputs": [],
   "source": [
    "new_t = list(view.atoms)[2].terms[0]"
   ]
  },
  {
   "cell_type": "code",
   "execution_count": 14,
   "metadata": {},
   "outputs": [
    {
     "data": {
      "text/plain": [
       "a"
      ]
     },
     "execution_count": 14,
     "metadata": {},
     "output_type": "execute_result"
    }
   ],
   "source": [
    "new_t"
   ]
  },
  {
   "cell_type": "code",
   "execution_count": 15,
   "metadata": {},
   "outputs": [
    {
     "data": {
      "text/plain": [
       "Q(a)"
      ]
     },
     "execution_count": 15,
     "metadata": {},
     "output_type": "execute_result"
    }
   ],
   "source": [
    "g.replace_term_in_atom(a, term_to_replace=t, replacement_term=new_t)"
   ]
  },
  {
   "cell_type": "code",
   "execution_count": null,
   "metadata": {},
   "outputs": [],
   "source": []
  }
 ],
 "metadata": {
  "kernelspec": {
   "display_name": ".venv",
   "language": "python",
   "name": "python3"
  },
  "language_info": {
   "codemirror_mode": {
    "name": "ipython",
    "version": 3
   },
   "file_extension": ".py",
   "mimetype": "text/x-python",
   "name": "python",
   "nbconvert_exporter": "python",
   "pygments_lexer": "ipython3",
   "version": "3.12.5"
  }
 },
 "nbformat": 4,
 "nbformat_minor": 2
}
