{
 "cells": [
  {
   "cell_type": "code",
   "execution_count": 1,
   "metadata": {},
   "outputs": [],
   "source": [
    "from etr_case_generator.generator import ETRCaseGenerator\n",
    "from etr_case_generator.reasoning_problem import ReasoningProblem\n",
    "from etr_case_generator.ontology import ELEMENTS\n",
    "\n",
    "from pyetr import View, State, SetOfStates\n",
    "from pyetr.inference import default_inference_procedure, default_procedure_does_it_follow"
   ]
  },
  {
   "cell_type": "code",
   "execution_count": null,
   "metadata": {},
   "outputs": [
    {
     "name": "stdout",
     "output_type": "stream",
     "text": [
      "<View\n",
      "  stage={{<PredicateAtom predicate=<Predicate name=P arity=1> terms=(<ArbitraryObject name=x>)>,<PredicateAtom predicate=<Predicate name=Q arity=1> terms=(<ArbitraryObject name=x>)>}}\n",
      "  supposition={{}}\n",
      "  dep_rel=<DependencyRelation deps=[] unis=frozenset() exis=frozenset({x})>\n",
      "  issue_structure={(<ArbitraryObject name=x>,<OpenPredicateAtom predicate=<Predicate name=Q arity=1> terms=(<QuestionMark>)>)}\n",
      "  weights=<Weights {<PredicateAtom predicate=<Predicate name=P arity=1> terms=(<ArbitraryObject name=x>)>,<PredicateAtom predicate=<Predicate name=Q arity=1> terms=(<ArbitraryObject name=x>)>}: <Weight multi=<Multiset items=[]> add=<Multiset items=[]>>>\n",
      ">\n"
     ]
    }
   ],
   "source": [
    "View.from_str(\"∃x {P(x)Q(x*)}\")"
   ]
  },
  {
   "cell_type": "code",
   "execution_count": 195,
   "metadata": {},
   "outputs": [
    {
     "data": {
      "text/plain": [
       "{D(T())}"
      ]
     },
     "execution_count": 195,
     "metadata": {},
     "output_type": "execute_result"
    }
   ],
   "source": [
    "default_inference_procedure([\n",
    "    View.from_str(\"Ex {S(x*)D(x)}\"),\n",
    "    View.from_str(\"{S(T()*)}\"),\n",
    "])"
   ]
  },
  {
   "cell_type": "code",
   "execution_count": null,
   "metadata": {},
   "outputs": [],
   "source": [
    "# ∀x { S(x) }^{ A(x) }\n",
    "# { B(V) A(E) }\n",
    "# { S(E) }\n",
    "\n",
    "r = ReasoningProblem(generator=ETRCaseGenerator(ELEMENTS))\n",
    "r.update_premises(premises=[\n",
    "    View.from_str(\"Ex { S(x*) D(x) }\"),\n",
    "    View.from_str(\"{ S(T()*) }\"),\n",
    "])\n",
    "r.update_query(query=View.from_str(\"{D(T())}\"))"
   ]
  },
  {
   "cell_type": "code",
   "execution_count": 200,
   "metadata": {},
   "outputs": [
    {
     "data": {
      "text/plain": [
       "{'full_prose': \"Consider the following premises:\\n\\n1. There is some X such that X is solid in vacuum and X is crystal-forming.\\n2. Eclipsium is crystal-forming.\\n\\nDoes it follow that eclipsium is solid in vacuum?\\n\\nAnswer using 'YES' or 'NO' ONLY.\",\n",
       " 'premises': [('∃x {D(x)S(x*)}',\n",
       "   'there is some X such that X is solid in vacuum and X is crystal-forming'),\n",
       "  ('{S(T()*)}', 'eclipsium is crystal-forming')],\n",
       " 'etr_conclusion': ('{D(T())}', 'eclipsium is solid in vacuum'),\n",
       " 'etr_conclusion_is_categorical': True,\n",
       " 'etr_conclusion_is_logically_consistent': False,\n",
       " 'query': ('{D(T()*)}', 'eclipsium is solid in vacuum'),\n",
       " 'etr_predicts_query_follows': True,\n",
       " 'query_is_logically_consistent': False,\n",
       " 'vocab_size': 4}"
      ]
     },
     "execution_count": 200,
     "metadata": {},
     "output_type": "execute_result"
    }
   ],
   "source": [
    "r.to_dict()"
   ]
  },
  {
   "cell_type": "code",
   "execution_count": 4,
   "metadata": {},
   "outputs": [
    {
     "data": {
      "text/plain": [
       "False"
      ]
     },
     "execution_count": 4,
     "metadata": {},
     "output_type": "execute_result"
    }
   ],
   "source": [
    "default_procedure_does_it_follow([View.from_str(\"Ax {C(x)}\")], View.from_str(\"{C(B())}\"))"
   ]
  },
  {
   "cell_type": "code",
   "execution_count": 5,
   "metadata": {},
   "outputs": [
    {
     "name": "stdout",
     "output_type": "stream",
     "text": [
      "Consider the following premises:\n",
      "\n",
      "1. X is superconductive.\n",
      "\n",
      "Does it follow that harmonium is superconductive?\n",
      "\n",
      "Answer using 'YES' or 'NO' ONLY.\n"
     ]
    }
   ],
   "source": [
    "print(r.full_prose())"
   ]
  },
  {
   "cell_type": "code",
   "execution_count": 6,
   "metadata": {},
   "outputs": [
    {
     "data": {
      "text/plain": [
       "({0}, '')"
      ]
     },
     "execution_count": 6,
     "metadata": {},
     "output_type": "execute_result"
    }
   ],
   "source": [
    "r.etr_conclusion"
   ]
  },
  {
   "cell_type": "code",
   "execution_count": 7,
   "metadata": {},
   "outputs": [],
   "source": [
    "view_queue = [View.get_falsum()]"
   ]
  },
  {
   "cell_type": "code",
   "execution_count": 8,
   "metadata": {},
   "outputs": [
    {
     "name": "stdout",
     "output_type": "stream",
     "text": [
      "{R(c)P(a)Q(l)}\n",
      "{c, l, a}\n",
      "U={l} E={}\n",
      "U={l} E={}\n",
      "{P(a)R(i)Q(l)}\n",
      "{i, l, a}\n",
      "U={i,l} E={q}\n",
      "U={i,l} E={}\n"
     ]
    },
    {
     "data": {
      "text/plain": [
       "∀i ∀l {P(a())R(i)Q(l)}"
      ]
     },
     "execution_count": 8,
     "metadata": {},
     "output_type": "execute_result"
    }
   ],
   "source": [
    "from pyetr import View, State, SetOfStates\n",
    "\n",
    "from etr_case_generator.mutate_view import random_existential_quantify, random_universal_quantify\n",
    "\n",
    "v = View.from_str(\"{P(a())Q(b())R(c())}\")\n",
    "v = random_universal_quantify(v)\n",
    "v = random_existential_quantify(v)\n",
    "v = random_universal_quantify(v)\n",
    "v"
   ]
  },
  {
   "cell_type": "code",
   "execution_count": 9,
   "metadata": {},
   "outputs": [
    {
     "data": {
      "text/plain": [
       "U={x} E={y}"
      ]
     },
     "execution_count": 9,
     "metadata": {},
     "output_type": "execute_result"
    }
   ],
   "source": [
    "from pyetr import DependencyRelation, ArbitraryObject\n",
    "\n",
    "DependencyRelation(\n",
    "    universals=[ArbitraryObject(name=\"x\")],\n",
    "    existentials=[],\n",
    "    dependencies=[],\n",
    ").fusion(\n",
    "    DependencyRelation(\n",
    "    universals=[],\n",
    "    existentials=[ArbitraryObject(name=\"y\")],\n",
    "    dependencies=[],\n",
    "))"
   ]
  },
  {
   "cell_type": "code",
   "execution_count": 10,
   "metadata": {},
   "outputs": [
    {
     "data": {
      "text/plain": [
       "[({}, '')]"
      ]
     },
     "execution_count": 10,
     "metadata": {},
     "output_type": "execute_result"
    }
   ],
   "source": [
    "import random\n",
    "\n",
    "from etr_case_generator.generator import ETRCaseGenerator\n",
    "from etr_case_generator.ontology import ELEMENTS\n",
    "from etr_case_generator.reasoning_problem import ReasoningProblem\n",
    "from etr_case_generator.mutate_view import mutate_view\n",
    "\n",
    "r = ReasoningProblem(generator=ETRCaseGenerator(ELEMENTS))\n",
    "r.update_premises(premises=[View.get_falsum()])\n",
    "\n",
    "r.premises"
   ]
  },
  {
   "cell_type": "code",
   "execution_count": 11,
   "metadata": {},
   "outputs": [],
   "source": [
    "def mutate_reasoning_problem(r: ReasoningProblem, max_premises: int = 3) -> ReasoningProblem:\n",
    "    if len(r.premises) > 0 and random.random() < 0.5:\n",
    "        # Mutate one of the existing premises\n",
    "        i = random.randint(0, len(r.premises) - 1)\n",
    "        premises = [p[0] for p in r.premises]\n",
    "        premises[i] = mutate_view(premises[i])\n",
    "        r.update_premises(premises=premises)\n",
    "        return r\n",
    "    elif len(r.premises) <= max_premises and random.random() < 0.5:\n",
    "        # Add a new premise\n",
    "        r.update_premises(premises=[p[0] for p in r.premises] + [View.get_falsum()])\n",
    "        return r\n",
    "    else:\n",
    "        # Mutate query\n",
    "        r.update_query(query=mutate_view(r.query[0]))\n",
    "        return r\n",
    "\n",
    "def ignore_problem(r: ReasoningProblem) -> bool:\n",
    "    if len(r.premises) == 0:\n",
    "        return True\n",
    "    return len(r.premises) <= 1 and r.premises[0][0].is_falsum\n",
    "\n",
    "problem_queue = [ReasoningProblem(generator=ETRCaseGenerator(ELEMENTS))]    "
   ]
  },
  {
   "cell_type": "code",
   "execution_count": 12,
   "metadata": {},
   "outputs": [
    {
     "data": {
      "text/plain": [
       "U={x} E={y} deps=x{y}"
      ]
     },
     "execution_count": 12,
     "metadata": {},
     "output_type": "execute_result"
    }
   ],
   "source": [
    "View.from_str(\"Ax Ey {P(x, y)}\").dependency_relation\n",
    "# dependency captures the existentials that depend on universals\n",
    "# This means that otherwise noted, the existentials are scoped outside of the universals"
   ]
  },
  {
   "cell_type": "code",
   "execution_count": 13,
   "metadata": {},
   "outputs": [
    {
     "data": {
      "text/plain": [
       "'∃x ∀y {P(x,y)}'"
      ]
     },
     "execution_count": 13,
     "metadata": {},
     "output_type": "execute_result"
    }
   ],
   "source": [
    "View.from_str(\"Ex Ay {P(x, y)}\").to_str()  # we can just cheat and use the to_str order"
   ]
  },
  {
   "cell_type": "code",
   "execution_count": 14,
   "metadata": {},
   "outputs": [
    {
     "data": {
      "text/plain": [
       "['', 'x', '', 'y', '']"
      ]
     },
     "execution_count": 14,
     "metadata": {},
     "output_type": "execute_result"
    }
   ],
   "source": [
    "import re\n",
    "delims = r\"[ ∃∀]\"\n",
    "re.split(delims, '∃x ∀y {P(x,y)}'.split(\"{\")[0])"
   ]
  },
  {
   "cell_type": "code",
   "execution_count": 17,
   "metadata": {},
   "outputs": [
    {
     "ename": "ValueError",
     "evalue": "Universals with existentials: frozenset() not the same as those in stage/supposition {y}",
     "output_type": "error",
     "traceback": [
      "\u001b[0;31m---------------------------------------------------------------------------\u001b[0m",
      "\u001b[0;31mValueError\u001b[0m                                Traceback (most recent call last)",
      "Cell \u001b[0;32mIn[17], line 5\u001b[0m\n\u001b[1;32m      3\u001b[0m r \u001b[38;5;241m=\u001b[39m problem_queue\u001b[38;5;241m.\u001b[39mpop(\u001b[38;5;241m0\u001b[39m)\n\u001b[1;32m      4\u001b[0m \u001b[38;5;28;01mif\u001b[39;00m \u001b[38;5;129;01mnot\u001b[39;00m ignore_problem(r): problem_queue\u001b[38;5;241m.\u001b[39mappend(r)\n\u001b[0;32m----> 5\u001b[0m problem_queue\u001b[38;5;241m.\u001b[39mappend(\u001b[43mmutate_reasoning_problem\u001b[49m\u001b[43m(\u001b[49m\u001b[43mr\u001b[49m\u001b[43m)\u001b[49m)\n\u001b[1;32m      7\u001b[0m \u001b[38;5;28;01mif\u001b[39;00m \u001b[38;5;129;01mnot\u001b[39;00m \u001b[38;5;28many\u001b[39m([p[\u001b[38;5;241m0\u001b[39m]\u001b[38;5;241m.\u001b[39mis_falsum \u001b[38;5;28;01mfor\u001b[39;00m p \u001b[38;5;129;01min\u001b[39;00m r\u001b[38;5;241m.\u001b[39mpremises]):\n\u001b[1;32m      8\u001b[0m     \u001b[38;5;28mprint\u001b[39m(r\u001b[38;5;241m.\u001b[39mpremises)\n",
      "Cell \u001b[0;32mIn[11], line 15\u001b[0m, in \u001b[0;36mmutate_reasoning_problem\u001b[0;34m(r, max_premises)\u001b[0m\n\u001b[1;32m     12\u001b[0m     \u001b[38;5;28;01mreturn\u001b[39;00m r\n\u001b[1;32m     13\u001b[0m \u001b[38;5;28;01melse\u001b[39;00m:\n\u001b[1;32m     14\u001b[0m     \u001b[38;5;66;03m# Mutate query\u001b[39;00m\n\u001b[0;32m---> 15\u001b[0m     r\u001b[38;5;241m.\u001b[39mupdate_query(query\u001b[38;5;241m=\u001b[39m\u001b[43mmutate_view\u001b[49m\u001b[43m(\u001b[49m\u001b[43mr\u001b[49m\u001b[38;5;241;43m.\u001b[39;49m\u001b[43mquery\u001b[49m\u001b[43m[\u001b[49m\u001b[38;5;241;43m0\u001b[39;49m\u001b[43m]\u001b[49m\u001b[43m)\u001b[49m)\n\u001b[1;32m     16\u001b[0m     \u001b[38;5;28;01mreturn\u001b[39;00m r\n",
      "File \u001b[0;32m~/repos/etr_case_generator/etr_case_generator/mutate_view.py:409\u001b[0m, in \u001b[0;36mmutate_view\u001b[0;34m(View)\u001b[0m\n\u001b[1;32m    398\u001b[0m \u001b[38;5;28;01mdef\u001b[39;00m \u001b[38;5;21mmutate_view\u001b[39m(View) \u001b[38;5;241m-\u001b[39m\u001b[38;5;241m>\u001b[39m View:\n\u001b[1;32m    399\u001b[0m     options \u001b[38;5;241m=\u001b[39m [\n\u001b[1;32m    400\u001b[0m         negate_atom,\n\u001b[1;32m    401\u001b[0m         disjoin_random_unary_predicate,\n\u001b[0;32m   (...)\u001b[0m\n\u001b[1;32m    406\u001b[0m         random_existential_quantify,\n\u001b[1;32m    407\u001b[0m     ]\n\u001b[0;32m--> 409\u001b[0m     \u001b[38;5;28;01mreturn\u001b[39;00m \u001b[43mrandom\u001b[49m\u001b[38;5;241;43m.\u001b[39;49m\u001b[43mchoice\u001b[49m\u001b[43m(\u001b[49m\u001b[43moptions\u001b[49m\u001b[43m)\u001b[49m\u001b[43m(\u001b[49m\u001b[43mView\u001b[49m\u001b[43m)\u001b[49m\n",
      "File \u001b[0;32m~/repos/etr_case_generator/etr_case_generator/mutate_view.py:124\u001b[0m, in \u001b[0;36mfactor_random_atom\u001b[0;34m(view)\u001b[0m\n\u001b[1;32m    121\u001b[0m     \u001b[38;5;28;01mreturn\u001b[39;00m view\n\u001b[1;32m    123\u001b[0m atom \u001b[38;5;241m=\u001b[39m random\u001b[38;5;241m.\u001b[39mchoice(\u001b[38;5;28mlist\u001b[39m(view\u001b[38;5;241m.\u001b[39matoms))\n\u001b[0;32m--> 124\u001b[0m \u001b[38;5;28;01mreturn\u001b[39;00m \u001b[43mfactor_atom\u001b[49m\u001b[43m(\u001b[49m\u001b[43mview\u001b[49m\u001b[43m,\u001b[49m\u001b[43m \u001b[49m\u001b[43matom\u001b[49m\u001b[43m)\u001b[49m\n",
      "File \u001b[0;32m~/repos/etr_case_generator/etr_case_generator/mutate_view.py:112\u001b[0m, in \u001b[0;36mfactor_atom\u001b[0;34m(view, atom)\u001b[0m\n\u001b[1;32m    106\u001b[0m \u001b[38;5;28;01mdef\u001b[39;00m \u001b[38;5;21mfactor_atom\u001b[39m(view: View, atom: Atom) \u001b[38;5;241m-\u001b[39m\u001b[38;5;241m>\u001b[39m View:\n\u001b[1;32m    107\u001b[0m \u001b[38;5;250m    \u001b[39m\u001b[38;5;124;03m\"\"\"Factor a specific atom from the view.\u001b[39;00m\n\u001b[1;32m    108\u001b[0m \n\u001b[1;32m    109\u001b[0m \u001b[38;5;124;03m    Args:\u001b[39;00m\n\u001b[1;32m    110\u001b[0m \u001b[38;5;124;03m        atom (Atom): The atom to factor.\u001b[39;00m\n\u001b[1;32m    111\u001b[0m \u001b[38;5;124;03m    \"\"\"\u001b[39;00m\n\u001b[0;32m--> 112\u001b[0m     atom_view \u001b[38;5;241m=\u001b[39m \u001b[43mView\u001b[49m\u001b[38;5;241;43m.\u001b[39;49m\u001b[43mwith_defaults\u001b[49m\u001b[43m(\u001b[49m\u001b[43mstage\u001b[49m\u001b[38;5;241;43m=\u001b[39;49m\u001b[43mSetOfStates\u001b[49m\u001b[43m(\u001b[49m\u001b[43m{\u001b[49m\u001b[43mState\u001b[49m\u001b[43m(\u001b[49m\u001b[43m{\u001b[49m\u001b[43matom\u001b[49m\u001b[43m}\u001b[49m\u001b[43m)\u001b[49m\u001b[43m}\u001b[49m\u001b[43m)\u001b[49m\u001b[43m)\u001b[49m\n\u001b[1;32m    113\u001b[0m     view \u001b[38;5;241m=\u001b[39m view\u001b[38;5;241m.\u001b[39mfactor(atom_view)\n\u001b[1;32m    114\u001b[0m     \u001b[38;5;28;01mreturn\u001b[39;00m remove_noncommital_states(view)\n",
      "File \u001b[0;32m~/repos/etr_case_generator/.venv/lib/python3.12/site-packages/pyetr/view.py:503\u001b[0m, in \u001b[0;36mView.with_defaults\u001b[0;34m(cls, stage, supposition, dependency_relation, issue_structure, weights)\u001b[0m\n\u001b[1;32m    501\u001b[0m \u001b[38;5;28;01mif\u001b[39;00m issue_structure \u001b[38;5;129;01mis\u001b[39;00m \u001b[38;5;28;01mNone\u001b[39;00m:\n\u001b[1;32m    502\u001b[0m     issue_structure \u001b[38;5;241m=\u001b[39m IssueStructure()\n\u001b[0;32m--> 503\u001b[0m \u001b[38;5;28;01mreturn\u001b[39;00m \u001b[38;5;28;43mcls\u001b[39;49m\u001b[43m(\u001b[49m\n\u001b[1;32m    504\u001b[0m \u001b[43m    \u001b[49m\u001b[43mstage\u001b[49m\u001b[38;5;241;43m=\u001b[39;49m\u001b[43mstage\u001b[49m\u001b[43m,\u001b[49m\n\u001b[1;32m    505\u001b[0m \u001b[43m    \u001b[49m\u001b[43msupposition\u001b[49m\u001b[38;5;241;43m=\u001b[39;49m\u001b[43msupposition\u001b[49m\u001b[43m,\u001b[49m\n\u001b[1;32m    506\u001b[0m \u001b[43m    \u001b[49m\u001b[43mdependency_relation\u001b[49m\u001b[38;5;241;43m=\u001b[39;49m\u001b[43mdependency_relation\u001b[49m\u001b[43m,\u001b[49m\n\u001b[1;32m    507\u001b[0m \u001b[43m    \u001b[49m\u001b[43missue_structure\u001b[49m\u001b[38;5;241;43m=\u001b[39;49m\u001b[43missue_structure\u001b[49m\u001b[43m,\u001b[49m\n\u001b[1;32m    508\u001b[0m \u001b[43m    \u001b[49m\u001b[43mweights\u001b[49m\u001b[38;5;241;43m=\u001b[39;49m\u001b[43mweights\u001b[49m\u001b[43m,\u001b[49m\n\u001b[1;32m    509\u001b[0m \u001b[43m\u001b[49m\u001b[43m)\u001b[49m\n",
      "File \u001b[0;32m~/repos/etr_case_generator/.venv/lib/python3.12/site-packages/pyetr/view.py:406\u001b[0m, in \u001b[0;36mView.__init__\u001b[0;34m(self, stage, supposition, dependency_relation, issue_structure, weights, is_pre_view)\u001b[0m\n\u001b[1;32m    404\u001b[0m \u001b[38;5;28;01melse\u001b[39;00m:\n\u001b[1;32m    405\u001b[0m     \u001b[38;5;28mself\u001b[39m\u001b[38;5;241m.\u001b[39m_weights \u001b[38;5;241m=\u001b[39m weights\n\u001b[0;32m--> 406\u001b[0m \u001b[38;5;28;43mself\u001b[39;49m\u001b[38;5;241;43m.\u001b[39;49m\u001b[43mvalidate\u001b[49m\u001b[43m(\u001b[49m\u001b[43mpre_view\u001b[49m\u001b[38;5;241;43m=\u001b[39;49m\u001b[43mis_pre_view\u001b[49m\u001b[43m)\u001b[49m\n",
      "File \u001b[0;32m~/repos/etr_case_generator/.venv/lib/python3.12/site-packages/pyetr/view.py:433\u001b[0m, in \u001b[0;36mView.validate\u001b[0;34m(self, pre_view)\u001b[0m\n\u001b[1;32m    432\u001b[0m \u001b[38;5;28;01mdef\u001b[39;00m \u001b[38;5;21mvalidate\u001b[39m(\u001b[38;5;28mself\u001b[39m, \u001b[38;5;241m*\u001b[39m, pre_view: \u001b[38;5;28mbool\u001b[39m \u001b[38;5;241m=\u001b[39m \u001b[38;5;28;01mFalse\u001b[39;00m):\n\u001b[0;32m--> 433\u001b[0m     \u001b[38;5;28;43mself\u001b[39;49m\u001b[38;5;241;43m.\u001b[39;49m\u001b[43mdependency_relation\u001b[49m\u001b[38;5;241;43m.\u001b[39;49m\u001b[43mvalidate_against_states\u001b[49m\u001b[43m(\u001b[49m\n\u001b[1;32m    434\u001b[0m \u001b[43m        \u001b[49m\u001b[43m(\u001b[49m\u001b[38;5;28;43mself\u001b[39;49m\u001b[38;5;241;43m.\u001b[39;49m\u001b[43mstage\u001b[49m\u001b[43m \u001b[49m\u001b[38;5;241;43m|\u001b[39;49m\u001b[43m \u001b[49m\u001b[38;5;28;43mself\u001b[39;49m\u001b[38;5;241;43m.\u001b[39;49m\u001b[43msupposition\u001b[49m\u001b[43m)\u001b[49m\u001b[38;5;241;43m.\u001b[39;49m\u001b[43marb_objects\u001b[49m\u001b[43m \u001b[49m\u001b[38;5;241;43m|\u001b[39;49m\u001b[43m \u001b[49m\u001b[38;5;28;43mself\u001b[39;49m\u001b[38;5;241;43m.\u001b[39;49m\u001b[43mweights\u001b[49m\u001b[38;5;241;43m.\u001b[39;49m\u001b[43marb_objects\u001b[49m\u001b[43m,\u001b[49m\n\u001b[1;32m    435\u001b[0m \u001b[43m        \u001b[49m\u001b[43mpre_view\u001b[49m\u001b[38;5;241;43m=\u001b[39;49m\u001b[43mpre_view\u001b[49m\u001b[43m,\u001b[49m\n\u001b[1;32m    436\u001b[0m \u001b[43m    \u001b[49m\u001b[43m)\u001b[49m\n\u001b[1;32m    438\u001b[0m     \u001b[38;5;28;01mfor\u001b[39;00m s, w \u001b[38;5;129;01min\u001b[39;00m \u001b[38;5;28mself\u001b[39m\u001b[38;5;241m.\u001b[39mweights\u001b[38;5;241m.\u001b[39mitems():\n\u001b[1;32m    439\u001b[0m         \u001b[38;5;28;01mif\u001b[39;00m s \u001b[38;5;129;01mnot\u001b[39;00m \u001b[38;5;129;01min\u001b[39;00m \u001b[38;5;28mself\u001b[39m\u001b[38;5;241m.\u001b[39mstage:\n",
      "File \u001b[0;32m~/repos/etr_case_generator/.venv/lib/python3.12/site-packages/pyetr/dependency.py:287\u001b[0m, in \u001b[0;36mDependencyRelation.validate_against_states\u001b[0;34m(self, arb_objects, pre_view)\u001b[0m\n\u001b[1;32m    285\u001b[0m \u001b[38;5;28;01melse\u001b[39;00m:\n\u001b[1;32m    286\u001b[0m     \u001b[38;5;28;01mif\u001b[39;00m \u001b[38;5;28mfrozenset\u001b[39m(arb_objects) \u001b[38;5;241m!=\u001b[39m \u001b[38;5;28mself\u001b[39m\u001b[38;5;241m.\u001b[39muniversals \u001b[38;5;241m|\u001b[39m \u001b[38;5;28mself\u001b[39m\u001b[38;5;241m.\u001b[39mexistentials:\n\u001b[0;32m--> 287\u001b[0m         \u001b[38;5;28;01mraise\u001b[39;00m \u001b[38;5;167;01mValueError\u001b[39;00m(\n\u001b[1;32m    288\u001b[0m             \u001b[38;5;124mf\u001b[39m\u001b[38;5;124m\"\u001b[39m\u001b[38;5;124mUniversals with existentials: \u001b[39m\u001b[38;5;132;01m{\u001b[39;00m\u001b[38;5;28mself\u001b[39m\u001b[38;5;241m.\u001b[39muniversals\u001b[38;5;250m \u001b[39m\u001b[38;5;241m|\u001b[39m\u001b[38;5;250m \u001b[39m\u001b[38;5;28mself\u001b[39m\u001b[38;5;241m.\u001b[39mexistentials\u001b[38;5;132;01m}\u001b[39;00m\u001b[38;5;124m not the same as those in stage/supposition \u001b[39m\u001b[38;5;132;01m{\u001b[39;00marb_objects\u001b[38;5;132;01m}\u001b[39;00m\u001b[38;5;124m\"\u001b[39m\n\u001b[1;32m    289\u001b[0m         )\n",
      "\u001b[0;31mValueError\u001b[0m: Universals with existentials: frozenset() not the same as those in stage/supposition {y}"
     ]
    }
   ],
   "source": [
    "import time\n",
    "while len(problem_queue) < 100:\n",
    "    r = problem_queue.pop(0)\n",
    "    if not ignore_problem(r): problem_queue.append(r)\n",
    "    problem_queue.append(mutate_reasoning_problem(r))\n",
    "\n",
    "    if not any([p[0].is_falsum for p in r.premises]):\n",
    "        print(r.premises)\n",
    "        print(r.query)\n",
    "        print(r.full_prose())\n",
    "    # time.sleep(1)"
   ]
  },
  {
   "cell_type": "code",
   "execution_count": null,
   "metadata": {},
   "outputs": [
    {
     "ename": "TypeError",
     "evalue": "view_to_natural_language() missing 1 required positional argument: 'view'",
     "output_type": "error",
     "traceback": [
      "\u001b[0;31m---------------------------------------------------------------------------\u001b[0m",
      "\u001b[0;31mTypeError\u001b[0m                                 Traceback (most recent call last)",
      "Cell \u001b[0;32mIn[13], line 7\u001b[0m\n\u001b[1;32m      3\u001b[0m \u001b[38;5;28;01mfrom\u001b[39;00m \u001b[38;5;21;01metr_case_generator\u001b[39;00m\u001b[38;5;21;01m.\u001b[39;00m\u001b[38;5;21;01mview_to_natural_language\u001b[39;00m \u001b[38;5;28;01mimport\u001b[39;00m view_to_natural_language\n\u001b[1;32m      5\u001b[0m g \u001b[38;5;241m=\u001b[39m ETRCaseGenerator(ELEMENTS)\n\u001b[0;32m----> 7\u001b[0m \u001b[43mview_to_natural_language\u001b[49m\u001b[43m(\u001b[49m\u001b[43mview_queue\u001b[49m\u001b[43m[\u001b[49m\u001b[38;5;241;43m-\u001b[39;49m\u001b[38;5;241;43m1\u001b[39;49m\u001b[43m]\u001b[49m\u001b[43m)\u001b[49m\n",
      "\u001b[0;31mTypeError\u001b[0m: view_to_natural_language() missing 1 required positional argument: 'view'"
     ]
    }
   ],
   "source": [
    "from etr_case_generator.generator import ETRCaseGenerator\n",
    "from etr_case_generator.ontology import ELEMENTS\n",
    "from etr_case_generator.view_to_natural_language import view_to_natural_language\n",
    "\n",
    "g = ETRCaseGenerator(ELEMENTS)\n",
    "\n",
    "view_to_natural_language(view_queue[-1])"
   ]
  },
  {
   "cell_type": "code",
   "execution_count": null,
   "metadata": {},
   "outputs": [
    {
     "ename": "AttributeError",
     "evalue": "'ETRCaseGenerator' object has no attribute 'add_quantification'",
     "output_type": "error",
     "traceback": [
      "\u001b[0;31m---------------------------------------------------------------------------\u001b[0m",
      "\u001b[0;31mAttributeError\u001b[0m                            Traceback (most recent call last)",
      "Cell \u001b[0;32mIn[18], line 1\u001b[0m\n\u001b[0;32m----> 1\u001b[0m g\u001b[38;5;241m.\u001b[39mview_to_natural_language(\u001b[43mg\u001b[49m\u001b[38;5;241;43m.\u001b[39;49m\u001b[43madd_quantification\u001b[49m(view_queue[\u001b[38;5;241m0\u001b[39m]))\n",
      "\u001b[0;31mAttributeError\u001b[0m: 'ETRCaseGenerator' object has no attribute 'add_quantification'"
     ]
    }
   ],
   "source": [
    "view_to_natural_language(g.add_quantification(view_queue[0]))"
   ]
  },
  {
   "cell_type": "code",
   "execution_count": null,
   "metadata": {},
   "outputs": [
    {
     "data": {
      "text/plain": [
       "[{}]"
      ]
     },
     "execution_count": 33,
     "metadata": {},
     "output_type": "execute_result"
    }
   ],
   "source": []
  },
  {
   "cell_type": "code",
   "execution_count": null,
   "metadata": {},
   "outputs": [],
   "source": [
    "m.merge_random_unary_predicate()"
   ]
  },
  {
   "cell_type": "code",
   "execution_count": null,
   "metadata": {},
   "outputs": [
    {
     "data": {
      "text/plain": [
       "{S(L())B()I(B()),A()S(L())I(B())}^{C()}"
      ]
     },
     "execution_count": 8,
     "metadata": {},
     "output_type": "execute_result"
    }
   ],
   "source": [
    "m.view"
   ]
  },
  {
   "cell_type": "code",
   "execution_count": null,
   "metadata": {},
   "outputs": [
    {
     "data": {
      "text/plain": [
       "['A', 'C', 'B']"
      ]
     },
     "execution_count": 13,
     "metadata": {},
     "output_type": "execute_result"
    }
   ],
   "source": [
    "[a.predicate.name for a in m.view.atoms]"
   ]
  },
  {
   "cell_type": "code",
   "execution_count": null,
   "metadata": {},
   "outputs": [
    {
     "data": {
      "text/plain": [
       "{B()}^{C()}"
      ]
     },
     "execution_count": 4,
     "metadata": {},
     "output_type": "execute_result"
    }
   ],
   "source": [
    "m.factor_random_atom()\n",
    "m.view"
   ]
  },
  {
   "cell_type": "code",
   "execution_count": null,
   "metadata": {},
   "outputs": [
    {
     "data": {
      "text/plain": [
       "{C()}^{}"
      ]
     },
     "execution_count": 8,
     "metadata": {},
     "output_type": "execute_result"
    }
   ],
   "source": [
    "m.factor_random_atom()\n",
    "m.view"
   ]
  },
  {
   "cell_type": "code",
   "execution_count": null,
   "metadata": {},
   "outputs": [
    {
     "ename": "AttributeError",
     "evalue": "'State' object has no attribute 'division'",
     "output_type": "error",
     "traceback": [
      "\u001b[0;31m---------------------------------------------------------------------------\u001b[0m",
      "\u001b[0;31mAttributeError\u001b[0m                            Traceback (most recent call last)",
      "Cell \u001b[0;32mIn[138], line 2\u001b[0m\n\u001b[1;32m      1\u001b[0m st \u001b[38;5;241m=\u001b[39m \u001b[38;5;28mlist\u001b[39m(View\u001b[38;5;241m.\u001b[39mfrom_str(\u001b[38;5;124m\"\u001b[39m\u001b[38;5;124m{\u001b[39m\u001b[38;5;124mA()B()}\u001b[39m\u001b[38;5;124m\"\u001b[39m)\u001b[38;5;241m.\u001b[39mstage)[\u001b[38;5;241m0\u001b[39m]\n\u001b[0;32m----> 2\u001b[0m \u001b[43mst\u001b[49m\u001b[38;5;241;43m.\u001b[39;49m\u001b[43mdivision\u001b[49m()\n",
      "\u001b[0;31mAttributeError\u001b[0m: 'State' object has no attribute 'division'"
     ]
    }
   ],
   "source": [
    "st = list(View.from_str(\"{A()B()}\").stage)[0]\n",
    "from pyetr.view import state_division\n",
    "state_division(st, )"
   ]
  },
  {
   "cell_type": "code",
   "execution_count": null,
   "metadata": {},
   "outputs": [],
   "source": [
    "ab = View.from_str(\"{A(), B()}\")\n",
    "a = View.from_str(\"{A()}\")\n",
    "b = View.from_str(\"{B()}\")\n",
    "c = View.from_str(\"{C()}\")"
   ]
  },
  {
   "cell_type": "code",
   "execution_count": null,
   "metadata": {},
   "outputs": [
    {
     "data": {
      "text/plain": [
       "{s(),0,q()r()p()}"
      ]
     },
     "execution_count": 125,
     "metadata": {},
     "output_type": "execute_result"
    }
   ],
   "source": [
    "res = View.from_str(\"{p()q()r(), q()s(), p()}\").factor(View.from_str(\"{p(), q()}\"))\n",
    "res"
   ]
  },
  {
   "cell_type": "code",
   "execution_count": null,
   "metadata": {},
   "outputs": [
    {
     "data": {
      "text/plain": [
       "{s(),0,q()r()p()}"
      ]
     },
     "execution_count": 129,
     "metadata": {},
     "output_type": "execute_result"
    }
   ],
   "source": [
    "res.answer(View.get_verum())"
   ]
  },
  {
   "cell_type": "code",
   "execution_count": null,
   "metadata": {},
   "outputs": [
    {
     "data": {
      "text/plain": [
       "{q()r()p()}"
      ]
     },
     "execution_count": 126,
     "metadata": {},
     "output_type": "execute_result"
    }
   ],
   "source": [
    "res.answer(res)"
   ]
  },
  {
   "cell_type": "code",
   "execution_count": null,
   "metadata": {},
   "outputs": [
    {
     "data": {
      "text/plain": [
       "{A(),B()}"
      ]
     },
     "execution_count": 115,
     "metadata": {},
     "output_type": "execute_result"
    }
   ],
   "source": [
    "ab.product(View.get_verum())"
   ]
  },
  {
   "cell_type": "code",
   "execution_count": null,
   "metadata": {},
   "outputs": [],
   "source": [
    "ans = ab.factor(a)"
   ]
  },
  {
   "cell_type": "code",
   "execution_count": null,
   "metadata": {},
   "outputs": [
    {
     "data": {
      "text/plain": [
       "{B()}"
      ]
     },
     "execution_count": 123,
     "metadata": {},
     "output_type": "execute_result"
    }
   ],
   "source": [
    "ans.answer(ans)"
   ]
  },
  {
   "cell_type": "code",
   "execution_count": null,
   "metadata": {},
   "outputs": [],
   "source": [
    "a = list(v.atoms)[0]\n",
    "a_v = View.with_defaults(stage=SetOfStates({State({a})}))"
   ]
  },
  {
   "cell_type": "code",
   "execution_count": null,
   "metadata": {},
   "outputs": [
    {
     "data": {
      "text/plain": [
       "{A()}"
      ]
     },
     "execution_count": 93,
     "metadata": {},
     "output_type": "execute_result"
    }
   ],
   "source": [
    "a_v"
   ]
  },
  {
   "cell_type": "code",
   "execution_count": null,
   "metadata": {},
   "outputs": [
    {
     "data": {
      "text/plain": [
       "{B(),0}"
      ]
     },
     "execution_count": 90,
     "metadata": {},
     "output_type": "execute_result"
    }
   ],
   "source": [
    "v.factor(a_v) #.product(View.get_falsum())"
   ]
  },
  {
   "cell_type": "code",
   "execution_count": null,
   "metadata": {},
   "outputs": [
    {
     "data": {
      "text/plain": [
       "{0,B()}"
      ]
     },
     "execution_count": 46,
     "metadata": {},
     "output_type": "execute_result"
    }
   ],
   "source": [
    "v.division(View.from_str(\"{A()}\")).factor(View.get_verum())"
   ]
  },
  {
   "cell_type": "code",
   "execution_count": null,
   "metadata": {},
   "outputs": [
    {
     "data": {
      "text/plain": [
       "{C()B(),A()C()}"
      ]
     },
     "execution_count": 40,
     "metadata": {},
     "output_type": "execute_result"
    }
   ],
   "source": [
    "v.merge(View.from_str(\"{C()}\"))"
   ]
  },
  {
   "cell_type": "markdown",
   "metadata": {},
   "source": [
    "# Editing Views with Generator"
   ]
  },
  {
   "cell_type": "code",
   "execution_count": null,
   "metadata": {},
   "outputs": [],
   "source": [
    "g = ETRCaseGenerator(ontology=ELEMENTS)"
   ]
  },
  {
   "cell_type": "code",
   "execution_count": null,
   "metadata": {},
   "outputs": [],
   "source": [
    "view = View.from_str(\"{P(a()), Q(b())}^{R(a())}\")"
   ]
  },
  {
   "cell_type": "code",
   "execution_count": null,
   "metadata": {},
   "outputs": [],
   "source": [
    "# ret = g.add_quantification(view)"
   ]
  },
  {
   "cell_type": "code",
   "execution_count": null,
   "metadata": {},
   "outputs": [
    {
     "data": {
      "text/plain": [
       "b"
      ]
     },
     "execution_count": 12,
     "metadata": {},
     "output_type": "execute_result"
    }
   ],
   "source": [
    "a = list(view.atoms)[0]\n",
    "t = a.terms[0]\n",
    "t"
   ]
  },
  {
   "cell_type": "code",
   "execution_count": null,
   "metadata": {},
   "outputs": [],
   "source": [
    "new_t = list(view.atoms)[2].terms[0]"
   ]
  },
  {
   "cell_type": "code",
   "execution_count": null,
   "metadata": {},
   "outputs": [
    {
     "data": {
      "text/plain": [
       "a"
      ]
     },
     "execution_count": 14,
     "metadata": {},
     "output_type": "execute_result"
    }
   ],
   "source": [
    "new_t"
   ]
  },
  {
   "cell_type": "code",
   "execution_count": null,
   "metadata": {},
   "outputs": [
    {
     "data": {
      "text/plain": [
       "Q(a)"
      ]
     },
     "execution_count": 15,
     "metadata": {},
     "output_type": "execute_result"
    }
   ],
   "source": [
    "g.replace_term_in_atom(a, term_to_replace=t, replacement_term=new_t)"
   ]
  },
  {
   "cell_type": "code",
   "execution_count": null,
   "metadata": {},
   "outputs": [],
   "source": []
  }
 ],
 "metadata": {
  "kernelspec": {
   "display_name": ".venv",
   "language": "python",
   "name": "python3"
  },
  "language_info": {
   "codemirror_mode": {
    "name": "ipython",
    "version": 3
   },
   "file_extension": ".py",
   "mimetype": "text/x-python",
   "name": "python",
   "nbconvert_exporter": "python",
   "pygments_lexer": "ipython3",
   "version": "3.12.5"
  }
 },
 "nbformat": 4,
 "nbformat_minor": 2
}
