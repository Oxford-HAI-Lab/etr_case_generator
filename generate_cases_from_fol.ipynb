{
 "cells": [
  {
   "cell_type": "code",
   "execution_count": 1,
   "metadata": {},
   "outputs": [],
   "source": [
    "import random\n",
    "\n",
    "from generate_fol_strings import main as generate_fol_strings\n",
    "from itertools import combinations\n",
    "from pyetr import View\n",
    "from pyetr.inference import (\n",
    "    default_inference_procedure,\n",
    "    classically_valid_inference_procedure,\n",
    ")"
   ]
  },
  {
   "cell_type": "code",
   "execution_count": 5,
   "metadata": {},
   "outputs": [
    {
     "name": "stdout",
     "output_type": "stream",
     "text": [
      "Generated 820 Boolean formulas.\n"
     ]
    }
   ],
   "source": [
    "formulas = generate_fol_strings(vocab_size=4, depth=3)"
   ]
  },
  {
   "cell_type": "code",
   "execution_count": 34,
   "metadata": {},
   "outputs": [
    {
     "name": "stdout",
     "output_type": "stream",
     "text": [
      "Formulas: (~A() ∧ C()); (A() ∨ D())\n",
      "View 1: {C()~A()}\n",
      "View 2: {D(),A()}\n",
      "ETR predicts:  {D()}\n",
      "Classical predicts:  {D()}\n"
     ]
    }
   ],
   "source": [
    "for p1, p2 in combinations(random.sample(formulas, 2), r=2):\n",
    "    print(f\"Formulas: {p1}; {p2}\")\n",
    "    v1 = View.from_fol(p1)\n",
    "    v2 = View.from_fol(p2)\n",
    "    print(f\"View 1: {v1.to_str()}\")\n",
    "    print(f\"View 2: {v2.to_str()}\")\n",
    "\n",
    "    print(\"ETR predicts: \", default_inference_procedure((v1, v2)))\n",
    "    print(\"Classical predicts: \", classically_valid_inference_procedure((v1, v2)))\n",
    "\n"
   ]
  },
  {
   "cell_type": "code",
   "execution_count": 38,
   "metadata": {},
   "outputs": [
    {
     "data": {
      "text/plain": [
       "1"
      ]
     },
     "execution_count": 38,
     "metadata": {},
     "output_type": "execute_result"
    }
   ],
   "source": [
    "len(default_inference_procedure((v1, v2)).stage)"
   ]
  },
  {
   "cell_type": "code",
   "execution_count": 6,
   "metadata": {},
   "outputs": [
    {
     "name": "stdout",
     "output_type": "stream",
     "text": [
      "Generated 820 Boolean formulas.\n"
     ]
    }
   ],
   "source": [
    "formulas = generate_fol_strings(vocab_size=4, depth=3)"
   ]
  },
  {
   "cell_type": "code",
   "execution_count": null,
   "metadata": {},
   "outputs": [],
   "source": [
    "cases = []"
   ]
  },
  {
   "cell_type": "markdown",
   "metadata": {},
   "source": []
  },
  {
   "cell_type": "code",
   "execution_count": 46,
   "metadata": {},
   "outputs": [],
   "source": [
    "from pyetr import PredicateAtom\n",
    "from pyetr.stateset import State\n",
    "from pyetr.atoms import Atom\n",
    "\n",
    "def statement_from_atom(atom: Atom, statement_mappings: dict) -> str:\n",
    "    if atom.predicate.verifier:\n",
    "        return statement_mappings[atom.predicate.name][\"verifier\"]\n",
    "    else:\n",
    "        return statement_mappings[atom.predicate.name][\"falsifier\"]"
   ]
  },
  {
   "cell_type": "code",
   "execution_count": 45,
   "metadata": {},
   "outputs": [],
   "source": [
    "from pyetr.stateset import State\n",
    "\n",
    "\n",
    "def statement_from_state(state: State, statement_mappings: dict) -> str:\n",
    "    return \" and \".join(\n",
    "        [statement_from_atom(atom, statement_mappings) for atom in state.atoms]\n",
    "    )"
   ]
  },
  {
   "cell_type": "code",
   "execution_count": 75,
   "metadata": {},
   "outputs": [],
   "source": [
    "def view_stage_to_natural_language(view: View) -> str:\n",
    "    statements = [\n",
    "        {\n",
    "            \"verifier\": \"there is a king\",\n",
    "            \"falsifier\": \"there isn't a king\",\n",
    "        },\n",
    "        {\n",
    "            \"verifier\": \"there is a queen\",\n",
    "            \"falsifier\": \"there isn't a queen\",\n",
    "        },\n",
    "        {\n",
    "            \"verifier\": \"there is an ace\",\n",
    "            \"falsifier\": \"there isn't an ace\",\n",
    "        },\n",
    "        {\n",
    "            \"verifier\": \"there is a jack\",\n",
    "            \"falsifier\": \"there isn't a jack,\"\n",
    "        }\n",
    "    ]\n",
    "\n",
    "    statement_mappings = {}\n",
    "    i = 0\n",
    "    for a in view.atoms:\n",
    "        # If we've already mapped this predicate, continue\n",
    "        if a.predicate.name in statement_mappings.keys(): continue\n",
    "\n",
    "        # Make the predicate a verifier, assuming we'll see both verifier and falsifer\n",
    "        if not a.predicate.verifier: a = ~a\n",
    "\n",
    "        statement_mappings.update(\n",
    "            {str(a.predicate.name): {\n",
    "                \"verifier\": statements[i][\"verifier\"],\n",
    "                \"falsifier\": statements[i][\"falsifier\"]\n",
    "            }}\n",
    "        )\n",
    "        i += 1\n",
    "\n",
    "    if len(view.stage) == 0: return \"\"\n",
    "\n",
    "    if len(view.stage) == 1:\n",
    "        statement = statement_from_state(list(view.stage)[0], statement_mappings)\n",
    "    else:\n",
    "        statement = \"either \" + \", or \".join(\n",
    "            [statement_from_state(state, statement_mappings) for state in view.stage]\n",
    "        )\n",
    "    if statement == \"\": return \"\"\n",
    "    return statement[0].upper() + statement[1:] + \".\""
   ]
  },
  {
   "cell_type": "code",
   "execution_count": 66,
   "metadata": {},
   "outputs": [
    {
     "data": {
      "text/plain": [
       "{~B()A(),C()}"
      ]
     },
     "execution_count": 66,
     "metadata": {},
     "output_type": "execute_result"
    }
   ],
   "source": [
    "v = View.from_str(\"{A()~B(),C()}\")\n",
    "v"
   ]
  },
  {
   "cell_type": "code",
   "execution_count": 67,
   "metadata": {},
   "outputs": [
    {
     "data": {
      "text/plain": [
       "\"Either there isn't a king and there is an ace, or there is a queen.\""
      ]
     },
     "execution_count": 67,
     "metadata": {},
     "output_type": "execute_result"
    }
   ],
   "source": [
    "view_stage_to_natural_language(v)"
   ]
  },
  {
   "cell_type": "code",
   "execution_count": 68,
   "metadata": {},
   "outputs": [
    {
     "data": {
      "text/plain": [
       "{A(), ~B()}"
      ]
     },
     "execution_count": 68,
     "metadata": {},
     "output_type": "execute_result"
    }
   ],
   "source": [
    "list(v.stage)[0].atoms"
   ]
  },
  {
   "cell_type": "code",
   "execution_count": 69,
   "metadata": {},
   "outputs": [
    {
     "data": {
      "text/plain": [
       "str"
      ]
     },
     "execution_count": 69,
     "metadata": {},
     "output_type": "execute_result"
    }
   ],
   "source": [
    "type(list(v.atoms)[0].predicate.name)"
   ]
  },
  {
   "cell_type": "code",
   "execution_count": 70,
   "metadata": {},
   "outputs": [
    {
     "data": {
      "text/plain": [
       "False"
      ]
     },
     "execution_count": 70,
     "metadata": {},
     "output_type": "execute_result"
    }
   ],
   "source": [
    "list(v.atoms)[0].predicate.verifier"
   ]
  },
  {
   "cell_type": "code",
   "execution_count": 77,
   "metadata": {},
   "outputs": [
    {
     "name": "stdout",
     "output_type": "stream",
     "text": [
      "Formulas: ((A() ∨ ~A()) ∨ (A() ∨ ~C())); ((A() ∧ ~A()) ∨ (~A() ∧ ~A()))\n",
      "View 1: {A(),~C(),~A()}\n",
      "View 2: {~A()A(),~A()}\n",
      "ETR predicts:  {~A()}\n",
      "Classical predicts:  {~A()~C(),~A()}\n",
      "\n"
     ]
    }
   ],
   "source": [
    "cases = []\n",
    "\n",
    "for p1, p2 in combinations(random.sample(formulas, 4), r=2):\n",
    "    v1 = View.from_fol(p1)\n",
    "    v2 = View.from_fol(p2)\n",
    "\n",
    "    etr_c = default_inference_procedure((v1, v2))\n",
    "    classical_c = classically_valid_inference_procedure((v1, v2))\n",
    "\n",
    "    if (\n",
    "        len(etr_c.stage) == 1\n",
    "        and len(classical_c.stage) != 1\n",
    "        and not etr_c.is_verum\n",
    "        and not etr_c.is_falsum\n",
    "    ):\n",
    "        print(f\"Formulas: {p1}; {p2}\")\n",
    "        print(f\"View 1: {v1.to_str()}\")\n",
    "        print(f\"View 2: {v2.to_str()}\")\n",
    "        print(\"ETR predicts: \", etr_c)\n",
    "        print(\"Classical predicts: \", classical_c)\n",
    "        print()\n",
    "    \n",
    "    cases.append({\n",
    "        \"p1_formal\": p1,\n",
    "        \"p2_formal\": p2,\n",
    "        \"etr_c_formal\": etr_c,\n",
    "        \"classical_c_formal\": classical_c,\n",
    "        \"p1_nl\": view_stage_to_natural_language(v1),\n",
    "        \"p2_nl\": view_stage_to_natural_language(v2),\n",
    "        \"etr_c_nl\": view_stage_to_natural_language(etr_c),\n",
    "        \"classical_c_nl\": view_stage_to_natural_language(classical_c),\n",
    "        \"etr_categorical\": len(etr_c.stage) == 1,\n",
    "        \"classical_categorical\": len(classical_c.stage) == 1,\n",
    "        \"etr_classical_agreement\": etr_c.stage == classical_c.stage,\n",
    "    })"
   ]
  },
  {
   "cell_type": "code",
   "execution_count": 78,
   "metadata": {},
   "outputs": [
    {
     "data": {
      "text/plain": [
       "[{'p1_formal': '((A() ∨ ~A()) ∨ (A() ∨ ~C()))',\n",
       "  'p2_formal': '(A() ∧ ~D())',\n",
       "  'etr_c_formal': {0,~C()},\n",
       "  'classical_c_formal': {~C(),0},\n",
       "  'p1_nl': \"Either there is a king, or there isn't a queen, or there isn't a king.\",\n",
       "  'p2_nl': \"There isn't a king and there is a queen.\",\n",
       "  'etr_c_nl': \"Either , or there isn't a king.\",\n",
       "  'classical_c_nl': \"Either , or there isn't a king.\",\n",
       "  'etr_categorical': False,\n",
       "  'classical_categorical': False,\n",
       "  'etr_classical_agreement': True},\n",
       " {'p1_formal': '((A() ∨ ~A()) ∨ (A() ∨ ~C()))',\n",
       "  'p2_formal': '((A() ∧ ~A()) ∨ (B() ∨ ~B()))',\n",
       "  'etr_c_formal': {~A()B(),~A()~B(),~B()A(),B()A()},\n",
       "  'classical_c_formal': {~C()B()A(),~A()~C()~B(),~B(),B(),~A()~C()B(),~C()~B()A()},\n",
       "  'p1_nl': \"Either there is a king, or there isn't a queen, or there isn't a king.\",\n",
       "  'p2_nl': \"Either there isn't a queen, or there isn't a king and there is a king, or there is a queen.\",\n",
       "  'etr_c_nl': \"Either there isn't a king and there is a queen, or there isn't a king and there isn't a queen, or there isn't a queen and there is a king, or there is a queen and there is a king.\",\n",
       "  'classical_c_nl': \"Either there isn't an ace and there is a queen and there is a king, or there isn't a king and there isn't an ace and there isn't a queen, or there isn't a queen, or there is a queen, or there isn't a king and there isn't an ace and there is a queen, or there isn't an ace and there isn't a queen and there is a king.\",\n",
       "  'etr_categorical': False,\n",
       "  'classical_categorical': False,\n",
       "  'etr_classical_agreement': False},\n",
       " {'p1_formal': '((A() ∨ ~A()) ∨ (A() ∨ ~C()))',\n",
       "  'p2_formal': '((A() ∧ ~A()) ∨ (~A() ∧ ~A()))',\n",
       "  'etr_c_formal': {~A()},\n",
       "  'classical_c_formal': {~A()~C(),~A()},\n",
       "  'p1_nl': \"Either there is a king, or there isn't a queen, or there isn't a king.\",\n",
       "  'p2_nl': \"Either there isn't a king and there is a king, or there isn't a king.\",\n",
       "  'etr_c_nl': \"There isn't a king.\",\n",
       "  'classical_c_nl': \"Either there isn't a king and there isn't a queen, or there isn't a king.\",\n",
       "  'etr_categorical': True,\n",
       "  'classical_categorical': False,\n",
       "  'etr_classical_agreement': False},\n",
       " {'p1_formal': '(A() ∧ ~D())',\n",
       "  'p2_formal': '((A() ∧ ~A()) ∨ (B() ∨ ~B()))',\n",
       "  'etr_c_formal': {~B(),B()},\n",
       "  'classical_c_formal': {~B(),B()},\n",
       "  'p1_nl': \"There isn't a king and there is a queen.\",\n",
       "  'p2_nl': \"Either there isn't a queen, or there isn't a king and there is a king, or there is a queen.\",\n",
       "  'etr_c_nl': \"Either there isn't a king, or there is a king.\",\n",
       "  'classical_c_nl': \"Either there isn't a king, or there is a king.\",\n",
       "  'etr_categorical': False,\n",
       "  'classical_categorical': False,\n",
       "  'etr_classical_agreement': True},\n",
       " {'p1_formal': '(A() ∧ ~D())',\n",
       "  'p2_formal': '((A() ∧ ~A()) ∨ (~A() ∧ ~A()))',\n",
       "  'etr_c_formal': {0},\n",
       "  'classical_c_formal': {0},\n",
       "  'p1_nl': \"There isn't a king and there is a queen.\",\n",
       "  'p2_nl': \"Either there isn't a king and there is a king, or there isn't a king.\",\n",
       "  'etr_c_nl': '',\n",
       "  'classical_c_nl': '',\n",
       "  'etr_categorical': True,\n",
       "  'classical_categorical': True,\n",
       "  'etr_classical_agreement': True},\n",
       " {'p1_formal': '((A() ∧ ~A()) ∨ (B() ∨ ~B()))',\n",
       "  'p2_formal': '((A() ∧ ~A()) ∨ (~A() ∧ ~A()))',\n",
       "  'etr_c_formal': {0},\n",
       "  'classical_c_formal': {~A()B(),~A()~B()},\n",
       "  'p1_nl': \"Either there isn't a queen, or there isn't a king and there is a king, or there is a queen.\",\n",
       "  'p2_nl': \"Either there isn't a king and there is a king, or there isn't a king.\",\n",
       "  'etr_c_nl': '',\n",
       "  'classical_c_nl': \"Either there isn't a king and there is a queen, or there isn't a king and there isn't a queen.\",\n",
       "  'etr_categorical': True,\n",
       "  'classical_categorical': False,\n",
       "  'etr_classical_agreement': False}]"
      ]
     },
     "execution_count": 78,
     "metadata": {},
     "output_type": "execute_result"
    }
   ],
   "source": [
    "cases"
   ]
  },
  {
   "cell_type": "code",
   "execution_count": 86,
   "metadata": {},
   "outputs": [
    {
     "data": {
      "text/plain": [
       "{'p1_formal': '((A() ∨ ~A()) ∨ (A() ∨ ~C()))',\n",
       " 'p2_formal': '((A() ∧ ~A()) ∨ (~A() ∧ ~A()))',\n",
       " 'etr_c_formal': {~A()},\n",
       " 'classical_c_formal': {~A()~C(),~A()},\n",
       " 'p1_nl': \"Either there is a king, or there isn't a queen, or there isn't a king.\",\n",
       " 'p2_nl': \"Either there isn't a king and there is a king, or there isn't a king.\",\n",
       " 'etr_c_nl': \"There isn't a king.\",\n",
       " 'classical_c_nl': \"Either there isn't a king and there isn't a queen, or there isn't a king.\",\n",
       " 'etr_categorical': True,\n",
       " 'classical_categorical': False,\n",
       " 'etr_classical_agreement': False}"
      ]
     },
     "execution_count": 86,
     "metadata": {},
     "output_type": "execute_result"
    }
   ],
   "source": [
    "cases[2]"
   ]
  },
  {
   "cell_type": "code",
   "execution_count": null,
   "metadata": {},
   "outputs": [],
   "source": []
  }
 ],
 "metadata": {
  "kernelspec": {
   "display_name": ".venv",
   "language": "python",
   "name": "python3"
  },
  "language_info": {
   "codemirror_mode": {
    "name": "ipython",
    "version": 3
   },
   "file_extension": ".py",
   "mimetype": "text/x-python",
   "name": "python",
   "nbconvert_exporter": "python",
   "pygments_lexer": "ipython3",
   "version": "3.12.5"
  }
 },
 "nbformat": 4,
 "nbformat_minor": 2
}
