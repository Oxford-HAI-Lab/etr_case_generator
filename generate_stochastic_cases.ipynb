{
 "cells": [
  {
   "cell_type": "code",
   "execution_count": 2,
   "metadata": {},
   "outputs": [],
   "source": [
    "from generate_cases import generate_views, view_to_natural_language"
   ]
  },
  {
   "cell_type": "code",
   "execution_count": 3,
   "metadata": {},
   "outputs": [],
   "source": [
    "import pandas as pd"
   ]
  },
  {
   "cell_type": "code",
   "execution_count": 4,
   "metadata": {},
   "outputs": [],
   "source": [
    "views = generate_views(\n",
    "    n_views=100,\n",
    "    max_conjuncts=3,\n",
    "    max_disjuncts=3,\n",
    "    generate_supposition=True,\n",
    "    neg_prob=0.2,\n",
    ")"
   ]
  },
  {
   "cell_type": "code",
   "execution_count": 5,
   "metadata": {},
   "outputs": [],
   "source": [
    "# Get all ordered pairs of views\n",
    "premises = [(v1, v2) for v1 in views for v2 in views]"
   ]
  },
  {
   "cell_type": "code",
   "execution_count": null,
   "metadata": {},
   "outputs": [],
   "source": [
    "from pyetr.view import View\n",
    "\n",
    "def premises_to_natural_language(premises: tuple[View, ...]) -> tuple[str, ...]:\n",
    "    return tuple(view_to_natural_language(p) for p in premises)"
   ]
  },
  {
   "cell_type": "code",
   "execution_count": 9,
   "metadata": {},
   "outputs": [],
   "source": [
    "df = pd.DataFrame(premises, columns=[\"p1\", \"p2\"])"
   ]
  },
  {
   "cell_type": "code",
   "execution_count": 10,
   "metadata": {},
   "outputs": [
    {
     "data": {
      "text/html": [
       "<div>\n",
       "<style scoped>\n",
       "    .dataframe tbody tr th:only-of-type {\n",
       "        vertical-align: middle;\n",
       "    }\n",
       "\n",
       "    .dataframe tbody tr th {\n",
       "        vertical-align: top;\n",
       "    }\n",
       "\n",
       "    .dataframe thead th {\n",
       "        text-align: right;\n",
       "    }\n",
       "</style>\n",
       "<table border=\"1\" class=\"dataframe\">\n",
       "  <thead>\n",
       "    <tr style=\"text-align: right;\">\n",
       "      <th></th>\n",
       "      <th>p1</th>\n",
       "      <th>p2</th>\n",
       "    </tr>\n",
       "  </thead>\n",
       "  <tbody>\n",
       "    <tr>\n",
       "      <th>0</th>\n",
       "      <td>{Ten()Nine(),Eight()Ten()Five()}^{Eight(),~Fiv...</td>\n",
       "      <td>{Ten()Nine(),Eight()Ten()Five()}^{Eight(),~Fiv...</td>\n",
       "    </tr>\n",
       "    <tr>\n",
       "      <th>1</th>\n",
       "      <td>{Ten()Nine(),Eight()Ten()Five()}^{Eight(),~Fiv...</td>\n",
       "      <td>{~Four()~Five()Three()}^{Seven(),~Ten()}</td>\n",
       "    </tr>\n",
       "    <tr>\n",
       "      <th>2</th>\n",
       "      <td>{Ten()Nine(),Eight()Ten()Five()}^{Eight(),~Fiv...</td>\n",
       "      <td>{~Six()~Five()}^{Six()}</td>\n",
       "    </tr>\n",
       "    <tr>\n",
       "      <th>3</th>\n",
       "      <td>{Ten()Nine(),Eight()Ten()Five()}^{Eight(),~Fiv...</td>\n",
       "      <td>{~Two(),~Queen()~Seven()}^{~Four(),Four()}</td>\n",
       "    </tr>\n",
       "    <tr>\n",
       "      <th>4</th>\n",
       "      <td>{Ten()Nine(),Eight()Ten()Five()}^{Eight(),~Fiv...</td>\n",
       "      <td>{Ten()Five()}^{Ten()Five(),Ten()~Five(),~Five()}</td>\n",
       "    </tr>\n",
       "  </tbody>\n",
       "</table>\n",
       "</div>"
      ],
      "text/plain": [
       "                                                  p1  \\\n",
       "0  {Ten()Nine(),Eight()Ten()Five()}^{Eight(),~Fiv...   \n",
       "1  {Ten()Nine(),Eight()Ten()Five()}^{Eight(),~Fiv...   \n",
       "2  {Ten()Nine(),Eight()Ten()Five()}^{Eight(),~Fiv...   \n",
       "3  {Ten()Nine(),Eight()Ten()Five()}^{Eight(),~Fiv...   \n",
       "4  {Ten()Nine(),Eight()Ten()Five()}^{Eight(),~Fiv...   \n",
       "\n",
       "                                                  p2  \n",
       "0  {Ten()Nine(),Eight()Ten()Five()}^{Eight(),~Fiv...  \n",
       "1           {~Four()~Five()Three()}^{Seven(),~Ten()}  \n",
       "2                            {~Six()~Five()}^{Six()}  \n",
       "3         {~Two(),~Queen()~Seven()}^{~Four(),Four()}  \n",
       "4   {Ten()Five()}^{Ten()Five(),Ten()~Five(),~Five()}  "
      ]
     },
     "execution_count": 10,
     "metadata": {},
     "output_type": "execute_result"
    }
   ],
   "source": [
    "df.head()"
   ]
  },
  {
   "cell_type": "code",
   "execution_count": 11,
   "metadata": {},
   "outputs": [],
   "source": [
    "df[\"p1_nl\"] = df[\"p1\"].apply(view_to_natural_language)\n",
    "df[\"p2_nl\"] = df[\"p2\"].apply(view_to_natural_language)"
   ]
  },
  {
   "cell_type": "code",
   "execution_count": 12,
   "metadata": {},
   "outputs": [
    {
     "data": {
      "text/html": [
       "<div>\n",
       "<style scoped>\n",
       "    .dataframe tbody tr th:only-of-type {\n",
       "        vertical-align: middle;\n",
       "    }\n",
       "\n",
       "    .dataframe tbody tr th {\n",
       "        vertical-align: top;\n",
       "    }\n",
       "\n",
       "    .dataframe thead th {\n",
       "        text-align: right;\n",
       "    }\n",
       "</style>\n",
       "<table border=\"1\" class=\"dataframe\">\n",
       "  <thead>\n",
       "    <tr style=\"text-align: right;\">\n",
       "      <th></th>\n",
       "      <th>p1</th>\n",
       "      <th>p2</th>\n",
       "      <th>p1_nl</th>\n",
       "      <th>p2_nl</th>\n",
       "    </tr>\n",
       "  </thead>\n",
       "  <tbody>\n",
       "    <tr>\n",
       "      <th>0</th>\n",
       "      <td>{Ten()Nine(),Eight()Ten()Five()}^{Eight(),~Fiv...</td>\n",
       "      <td>{Ten()Nine(),Eight()Ten()Five()}^{Eight(),~Fiv...</td>\n",
       "      <td>if either there is a ten and a nine, or there ...</td>\n",
       "      <td>if either there is a ten and a nine, or there ...</td>\n",
       "    </tr>\n",
       "    <tr>\n",
       "      <th>1</th>\n",
       "      <td>{Ten()Nine(),Eight()Ten()Five()}^{Eight(),~Fiv...</td>\n",
       "      <td>{~Four()~Five()Three()}^{Seven(),~Ten()}</td>\n",
       "      <td>if either there is a ten and a nine, or there ...</td>\n",
       "      <td>if there is a three and not a four and not a f...</td>\n",
       "    </tr>\n",
       "    <tr>\n",
       "      <th>2</th>\n",
       "      <td>{Ten()Nine(),Eight()Ten()Five()}^{Eight(),~Fiv...</td>\n",
       "      <td>{~Six()~Five()}^{Six()}</td>\n",
       "      <td>if either there is a ten and a nine, or there ...</td>\n",
       "      <td>if there is not a six and not a five, then the...</td>\n",
       "    </tr>\n",
       "    <tr>\n",
       "      <th>3</th>\n",
       "      <td>{Ten()Nine(),Eight()Ten()Five()}^{Eight(),~Fiv...</td>\n",
       "      <td>{~Two(),~Queen()~Seven()}^{~Four(),Four()}</td>\n",
       "      <td>if either there is a ten and a nine, or there ...</td>\n",
       "      <td>if either there is not a two, or there is not ...</td>\n",
       "    </tr>\n",
       "    <tr>\n",
       "      <th>4</th>\n",
       "      <td>{Ten()Nine(),Eight()Ten()Five()}^{Eight(),~Fiv...</td>\n",
       "      <td>{Ten()Five()}^{Ten()Five(),Ten()~Five(),~Five()}</td>\n",
       "      <td>if either there is a ten and a nine, or there ...</td>\n",
       "      <td>if there is a ten and a five, then either ther...</td>\n",
       "    </tr>\n",
       "  </tbody>\n",
       "</table>\n",
       "</div>"
      ],
      "text/plain": [
       "                                                  p1  \\\n",
       "0  {Ten()Nine(),Eight()Ten()Five()}^{Eight(),~Fiv...   \n",
       "1  {Ten()Nine(),Eight()Ten()Five()}^{Eight(),~Fiv...   \n",
       "2  {Ten()Nine(),Eight()Ten()Five()}^{Eight(),~Fiv...   \n",
       "3  {Ten()Nine(),Eight()Ten()Five()}^{Eight(),~Fiv...   \n",
       "4  {Ten()Nine(),Eight()Ten()Five()}^{Eight(),~Fiv...   \n",
       "\n",
       "                                                  p2  \\\n",
       "0  {Ten()Nine(),Eight()Ten()Five()}^{Eight(),~Fiv...   \n",
       "1           {~Four()~Five()Three()}^{Seven(),~Ten()}   \n",
       "2                            {~Six()~Five()}^{Six()}   \n",
       "3         {~Two(),~Queen()~Seven()}^{~Four(),Four()}   \n",
       "4   {Ten()Five()}^{Ten()Five(),Ten()~Five(),~Five()}   \n",
       "\n",
       "                                               p1_nl  \\\n",
       "0  if either there is a ten and a nine, or there ...   \n",
       "1  if either there is a ten and a nine, or there ...   \n",
       "2  if either there is a ten and a nine, or there ...   \n",
       "3  if either there is a ten and a nine, or there ...   \n",
       "4  if either there is a ten and a nine, or there ...   \n",
       "\n",
       "                                               p2_nl  \n",
       "0  if either there is a ten and a nine, or there ...  \n",
       "1  if there is a three and not a four and not a f...  \n",
       "2  if there is not a six and not a five, then the...  \n",
       "3  if either there is not a two, or there is not ...  \n",
       "4  if there is a ten and a five, then either ther...  "
      ]
     },
     "execution_count": 12,
     "metadata": {},
     "output_type": "execute_result"
    }
   ],
   "source": [
    "df.head()"
   ]
  },
  {
   "cell_type": "code",
   "execution_count": 13,
   "metadata": {},
   "outputs": [
    {
     "data": {
      "text/plain": [
       "1000000"
      ]
     },
     "execution_count": 13,
     "metadata": {},
     "output_type": "execute_result"
    }
   ],
   "source": [
    "len(df)"
   ]
  },
  {
   "cell_type": "code",
   "execution_count": null,
   "metadata": {},
   "outputs": [],
   "source": []
  }
 ],
 "metadata": {
  "kernelspec": {
   "display_name": ".venv",
   "language": "python",
   "name": "python3"
  },
  "language_info": {
   "codemirror_mode": {
    "name": "ipython",
    "version": 3
   },
   "file_extension": ".py",
   "mimetype": "text/x-python",
   "name": "python",
   "nbconvert_exporter": "python",
   "pygments_lexer": "ipython3",
   "version": "3.12.5"
  }
 },
 "nbformat": 4,
 "nbformat_minor": 2
}
