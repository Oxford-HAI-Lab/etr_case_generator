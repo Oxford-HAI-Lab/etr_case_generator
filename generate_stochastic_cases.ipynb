{
 "cells": [
  {
   "cell_type": "code",
   "execution_count": 28,
   "metadata": {},
   "outputs": [],
   "source": [
    "import pandas as pd\n",
    "\n",
    "from generate_cases import generate_views, view_to_natural_language\n",
    "from pyetr.inference import (\n",
    "    default_inference_procedure,\n",
    "    classically_valid_inference_procedure,\n",
    ")"
   ]
  },
  {
   "cell_type": "code",
   "execution_count": 72,
   "metadata": {},
   "outputs": [],
   "source": [
    "views = generate_views(\n",
    "    n_views=50,\n",
    "    max_domain_size=4,\n",
    "    max_conjuncts=2,\n",
    "    max_disjuncts=2,\n",
    "    generate_supposition=True,\n",
    "    neg_prob=0.2,\n",
    "    supposition_prob=0.2,\n",
    ")"
   ]
  },
  {
   "cell_type": "code",
   "execution_count": 80,
   "metadata": {},
   "outputs": [],
   "source": [
    "from pyetr.view import View\n",
    "\n",
    "def views_have_nonempty_intersection(v1: View, v2: View) -> bool:\n",
    "    v1_atoms = set([a if a.predicate.verifier else ~a for a in v1.atoms])\n",
    "    v2_atoms = set([a if a.predicate.verifier else ~a for a in v2.atoms])\n",
    "    return len(v1_atoms.intersection(v2_atoms)) > 1\n",
    "\n",
    "def generate_premises(views: list[View]) -> list[tuple[View, ...]]:\n",
    "    ret = []\n",
    "    for v1 in views:\n",
    "        for v2 in views:\n",
    "            if all([\n",
    "                views_have_nonempty_intersection(v1, v2),\n",
    "                not(len(v1.stage) > 1 and len(v2.stage) > 1),\n",
    "            ]):\n",
    "                ret.append((v1, v2))\n",
    "    return ret"
   ]
  },
  {
   "cell_type": "code",
   "execution_count": 81,
   "metadata": {},
   "outputs": [],
   "source": [
    "premises = generate_premises(views)"
   ]
  },
  {
   "cell_type": "code",
   "execution_count": 82,
   "metadata": {},
   "outputs": [
    {
     "data": {
      "text/plain": [
       "50"
      ]
     },
     "execution_count": 82,
     "metadata": {},
     "output_type": "execute_result"
    }
   ],
   "source": [
    "len(views)"
   ]
  },
  {
   "cell_type": "code",
   "execution_count": 83,
   "metadata": {},
   "outputs": [
    {
     "data": {
      "text/plain": [
       "11"
      ]
     },
     "execution_count": 83,
     "metadata": {},
     "output_type": "execute_result"
    }
   ],
   "source": [
    "len(premises)"
   ]
  },
  {
   "cell_type": "code",
   "execution_count": 84,
   "metadata": {},
   "outputs": [],
   "source": [
    "# Get all ordered pairs of views -- too naive\n",
    "# premises = [(v1, v2) for v1 in views for v2 in views]"
   ]
  },
  {
   "cell_type": "code",
   "execution_count": 85,
   "metadata": {},
   "outputs": [],
   "source": [
    "df = pd.DataFrame(premises, columns=[\"p1\", \"p2\"])"
   ]
  },
  {
   "cell_type": "code",
   "execution_count": 86,
   "metadata": {},
   "outputs": [
    {
     "data": {
      "text/html": [
       "<div>\n",
       "<style scoped>\n",
       "    .dataframe tbody tr th:only-of-type {\n",
       "        vertical-align: middle;\n",
       "    }\n",
       "\n",
       "    .dataframe tbody tr th {\n",
       "        vertical-align: top;\n",
       "    }\n",
       "\n",
       "    .dataframe thead th {\n",
       "        text-align: right;\n",
       "    }\n",
       "</style>\n",
       "<table border=\"1\" class=\"dataframe\">\n",
       "  <thead>\n",
       "    <tr style=\"text-align: right;\">\n",
       "      <th></th>\n",
       "      <th>p1</th>\n",
       "      <th>p2</th>\n",
       "    </tr>\n",
       "  </thead>\n",
       "  <tbody>\n",
       "    <tr>\n",
       "      <th>0</th>\n",
       "      <td>{Jack()}^{~Jack()Seven()}</td>\n",
       "      <td>{Jack()}^{~Jack()Seven()}</td>\n",
       "    </tr>\n",
       "    <tr>\n",
       "      <th>1</th>\n",
       "      <td>{Queen()}^{Ace()}</td>\n",
       "      <td>{Queen()}^{Ace()}</td>\n",
       "    </tr>\n",
       "    <tr>\n",
       "      <th>2</th>\n",
       "      <td>{King()Nine()}^{}</td>\n",
       "      <td>{King()Nine()}^{}</td>\n",
       "    </tr>\n",
       "    <tr>\n",
       "      <th>3</th>\n",
       "      <td>{Seven()Five()}^{}</td>\n",
       "      <td>{Seven()Five()}^{}</td>\n",
       "    </tr>\n",
       "    <tr>\n",
       "      <th>4</th>\n",
       "      <td>{Seven()Five()}^{}</td>\n",
       "      <td>{Seven()}^{Five()}</td>\n",
       "    </tr>\n",
       "  </tbody>\n",
       "</table>\n",
       "</div>"
      ],
      "text/plain": [
       "                          p1                         p2\n",
       "0  {Jack()}^{~Jack()Seven()}  {Jack()}^{~Jack()Seven()}\n",
       "1          {Queen()}^{Ace()}          {Queen()}^{Ace()}\n",
       "2          {King()Nine()}^{}          {King()Nine()}^{}\n",
       "3         {Seven()Five()}^{}         {Seven()Five()}^{}\n",
       "4         {Seven()Five()}^{}         {Seven()}^{Five()}"
      ]
     },
     "execution_count": 86,
     "metadata": {},
     "output_type": "execute_result"
    }
   ],
   "source": [
    "df.head()"
   ]
  },
  {
   "cell_type": "code",
   "execution_count": 87,
   "metadata": {},
   "outputs": [],
   "source": [
    "df[\"p1_nl\"] = df[\"p1\"].apply(view_to_natural_language)\n",
    "df[\"p2_nl\"] = df[\"p2\"].apply(view_to_natural_language)"
   ]
  },
  {
   "cell_type": "code",
   "execution_count": 88,
   "metadata": {},
   "outputs": [
    {
     "data": {
      "text/html": [
       "<div>\n",
       "<style scoped>\n",
       "    .dataframe tbody tr th:only-of-type {\n",
       "        vertical-align: middle;\n",
       "    }\n",
       "\n",
       "    .dataframe tbody tr th {\n",
       "        vertical-align: top;\n",
       "    }\n",
       "\n",
       "    .dataframe thead th {\n",
       "        text-align: right;\n",
       "    }\n",
       "</style>\n",
       "<table border=\"1\" class=\"dataframe\">\n",
       "  <thead>\n",
       "    <tr style=\"text-align: right;\">\n",
       "      <th></th>\n",
       "      <th>p1</th>\n",
       "      <th>p2</th>\n",
       "      <th>p1_nl</th>\n",
       "      <th>p2_nl</th>\n",
       "    </tr>\n",
       "  </thead>\n",
       "  <tbody>\n",
       "    <tr>\n",
       "      <th>0</th>\n",
       "      <td>{Jack()}^{~Jack()Seven()}</td>\n",
       "      <td>{Jack()}^{~Jack()Seven()}</td>\n",
       "      <td>if there is a seven and not a jack, then there...</td>\n",
       "      <td>if there is a seven and not a jack, then there...</td>\n",
       "    </tr>\n",
       "    <tr>\n",
       "      <th>1</th>\n",
       "      <td>{Queen()}^{Ace()}</td>\n",
       "      <td>{Queen()}^{Ace()}</td>\n",
       "      <td>if there is an ace, then there is a queen</td>\n",
       "      <td>if there is an ace, then there is a queen</td>\n",
       "    </tr>\n",
       "    <tr>\n",
       "      <th>2</th>\n",
       "      <td>{King()Nine()}^{}</td>\n",
       "      <td>{King()Nine()}^{}</td>\n",
       "      <td>there is a king and a nine</td>\n",
       "      <td>there is a king and a nine</td>\n",
       "    </tr>\n",
       "    <tr>\n",
       "      <th>3</th>\n",
       "      <td>{Seven()Five()}^{}</td>\n",
       "      <td>{Seven()Five()}^{}</td>\n",
       "      <td>there is a seven and a five</td>\n",
       "      <td>there is a seven and a five</td>\n",
       "    </tr>\n",
       "    <tr>\n",
       "      <th>4</th>\n",
       "      <td>{Seven()Five()}^{}</td>\n",
       "      <td>{Seven()}^{Five()}</td>\n",
       "      <td>there is a seven and a five</td>\n",
       "      <td>if there is a five, then there is a seven</td>\n",
       "    </tr>\n",
       "  </tbody>\n",
       "</table>\n",
       "</div>"
      ],
      "text/plain": [
       "                          p1                         p2  \\\n",
       "0  {Jack()}^{~Jack()Seven()}  {Jack()}^{~Jack()Seven()}   \n",
       "1          {Queen()}^{Ace()}          {Queen()}^{Ace()}   \n",
       "2          {King()Nine()}^{}          {King()Nine()}^{}   \n",
       "3         {Seven()Five()}^{}         {Seven()Five()}^{}   \n",
       "4         {Seven()Five()}^{}         {Seven()}^{Five()}   \n",
       "\n",
       "                                               p1_nl  \\\n",
       "0  if there is a seven and not a jack, then there...   \n",
       "1          if there is an ace, then there is a queen   \n",
       "2                         there is a king and a nine   \n",
       "3                        there is a seven and a five   \n",
       "4                        there is a seven and a five   \n",
       "\n",
       "                                               p2_nl  \n",
       "0  if there is a seven and not a jack, then there...  \n",
       "1          if there is an ace, then there is a queen  \n",
       "2                         there is a king and a nine  \n",
       "3                        there is a seven and a five  \n",
       "4          if there is a five, then there is a seven  "
      ]
     },
     "execution_count": 88,
     "metadata": {},
     "output_type": "execute_result"
    }
   ],
   "source": [
    "df.head()"
   ]
  },
  {
   "cell_type": "code",
   "execution_count": 89,
   "metadata": {},
   "outputs": [
    {
     "data": {
      "text/plain": [
       "11"
      ]
     },
     "execution_count": 89,
     "metadata": {},
     "output_type": "execute_result"
    }
   ],
   "source": [
    "len(df)"
   ]
  },
  {
   "cell_type": "code",
   "execution_count": 90,
   "metadata": {},
   "outputs": [
    {
     "data": {
      "application/vnd.jupyter.widget-view+json": {
       "model_id": "436b0fa82fbb450b896b430640816f35",
       "version_major": 2,
       "version_minor": 0
      },
      "text/plain": [
       "  0%|          | 0/11 [00:00<?, ?it/s]"
      ]
     },
     "metadata": {},
     "output_type": "display_data"
    }
   ],
   "source": [
    "from tqdm.notebook import tqdm\n",
    "tqdm.pandas()\n",
    "\n",
    "df[\"etr_c\"] = df.progress_apply(lambda row: default_inference_procedure([row[\"p1\"], row[\"p2\"]]), axis=1)"
   ]
  },
  {
   "cell_type": "code",
   "execution_count": 91,
   "metadata": {},
   "outputs": [
    {
     "data": {
      "text/html": [
       "<div>\n",
       "<style scoped>\n",
       "    .dataframe tbody tr th:only-of-type {\n",
       "        vertical-align: middle;\n",
       "    }\n",
       "\n",
       "    .dataframe tbody tr th {\n",
       "        vertical-align: top;\n",
       "    }\n",
       "\n",
       "    .dataframe thead th {\n",
       "        text-align: right;\n",
       "    }\n",
       "</style>\n",
       "<table border=\"1\" class=\"dataframe\">\n",
       "  <thead>\n",
       "    <tr style=\"text-align: right;\">\n",
       "      <th></th>\n",
       "      <th>p1</th>\n",
       "      <th>p2</th>\n",
       "      <th>p1_nl</th>\n",
       "      <th>p2_nl</th>\n",
       "      <th>etr_c</th>\n",
       "    </tr>\n",
       "  </thead>\n",
       "  <tbody>\n",
       "    <tr>\n",
       "      <th>0</th>\n",
       "      <td>{Jack()}^{~Jack()Seven()}</td>\n",
       "      <td>{Jack()}^{~Jack()Seven()}</td>\n",
       "      <td>if there is a seven and not a jack, then there...</td>\n",
       "      <td>if there is a seven and not a jack, then there...</td>\n",
       "      <td>{0}</td>\n",
       "    </tr>\n",
       "    <tr>\n",
       "      <th>1</th>\n",
       "      <td>{Queen()}^{Ace()}</td>\n",
       "      <td>{Queen()}^{Ace()}</td>\n",
       "      <td>if there is an ace, then there is a queen</td>\n",
       "      <td>if there is an ace, then there is a queen</td>\n",
       "      <td>{0}</td>\n",
       "    </tr>\n",
       "    <tr>\n",
       "      <th>2</th>\n",
       "      <td>{King()Nine()}^{}</td>\n",
       "      <td>{King()Nine()}^{}</td>\n",
       "      <td>there is a king and a nine</td>\n",
       "      <td>there is a king and a nine</td>\n",
       "      <td>{0,King()Nine()}</td>\n",
       "    </tr>\n",
       "    <tr>\n",
       "      <th>3</th>\n",
       "      <td>{Seven()Five()}^{}</td>\n",
       "      <td>{Seven()Five()}^{}</td>\n",
       "      <td>there is a seven and a five</td>\n",
       "      <td>there is a seven and a five</td>\n",
       "      <td>{0,Seven()Five()}</td>\n",
       "    </tr>\n",
       "    <tr>\n",
       "      <th>4</th>\n",
       "      <td>{Seven()Five()}^{}</td>\n",
       "      <td>{Seven()}^{Five()}</td>\n",
       "      <td>there is a seven and a five</td>\n",
       "      <td>if there is a five, then there is a seven</td>\n",
       "      <td>{0,Five()}</td>\n",
       "    </tr>\n",
       "  </tbody>\n",
       "</table>\n",
       "</div>"
      ],
      "text/plain": [
       "                          p1                         p2  \\\n",
       "0  {Jack()}^{~Jack()Seven()}  {Jack()}^{~Jack()Seven()}   \n",
       "1          {Queen()}^{Ace()}          {Queen()}^{Ace()}   \n",
       "2          {King()Nine()}^{}          {King()Nine()}^{}   \n",
       "3         {Seven()Five()}^{}         {Seven()Five()}^{}   \n",
       "4         {Seven()Five()}^{}         {Seven()}^{Five()}   \n",
       "\n",
       "                                               p1_nl  \\\n",
       "0  if there is a seven and not a jack, then there...   \n",
       "1          if there is an ace, then there is a queen   \n",
       "2                         there is a king and a nine   \n",
       "3                        there is a seven and a five   \n",
       "4                        there is a seven and a five   \n",
       "\n",
       "                                               p2_nl              etr_c  \n",
       "0  if there is a seven and not a jack, then there...                {0}  \n",
       "1          if there is an ace, then there is a queen                {0}  \n",
       "2                         there is a king and a nine   {0,King()Nine()}  \n",
       "3                        there is a seven and a five  {0,Seven()Five()}  \n",
       "4          if there is a five, then there is a seven         {0,Five()}  "
      ]
     },
     "execution_count": 91,
     "metadata": {},
     "output_type": "execute_result"
    }
   ],
   "source": [
    "df.head()"
   ]
  },
  {
   "cell_type": "code",
   "execution_count": 63,
   "metadata": {},
   "outputs": [
    {
     "data": {
      "text/html": [
       "<div>\n",
       "<style scoped>\n",
       "    .dataframe tbody tr th:only-of-type {\n",
       "        vertical-align: middle;\n",
       "    }\n",
       "\n",
       "    .dataframe tbody tr th {\n",
       "        vertical-align: top;\n",
       "    }\n",
       "\n",
       "    .dataframe thead th {\n",
       "        text-align: right;\n",
       "    }\n",
       "</style>\n",
       "<table border=\"1\" class=\"dataframe\">\n",
       "  <thead>\n",
       "    <tr style=\"text-align: right;\">\n",
       "      <th></th>\n",
       "      <th>p1</th>\n",
       "      <th>p2</th>\n",
       "      <th>p1_nl</th>\n",
       "      <th>p2_nl</th>\n",
       "      <th>etr_c</th>\n",
       "    </tr>\n",
       "  </thead>\n",
       "  <tbody>\n",
       "  </tbody>\n",
       "</table>\n",
       "</div>"
      ],
      "text/plain": [
       "Empty DataFrame\n",
       "Columns: [p1, p2, p1_nl, p2_nl, etr_c]\n",
       "Index: []"
      ]
     },
     "execution_count": 63,
     "metadata": {},
     "output_type": "execute_result"
    }
   ],
   "source": [
    "cat_c_df = df[df[\"etr_c\"].apply(lambda x: len(x.stage) == 1 and not x.is_verum)]\n",
    "cat_c_df[\n",
    "    (cat_c_df[\"p2\"].apply(lambda x: len(x.stage) > 1)) &\n",
    "    (cat_c_df[\"p1\"].apply(lambda x: len(x.stage) > 1))\n",
    "]"
   ]
  },
  {
   "cell_type": "code",
   "execution_count": 64,
   "metadata": {},
   "outputs": [
    {
     "data": {
      "text/html": [
       "<div>\n",
       "<style scoped>\n",
       "    .dataframe tbody tr th:only-of-type {\n",
       "        vertical-align: middle;\n",
       "    }\n",
       "\n",
       "    .dataframe tbody tr th {\n",
       "        vertical-align: top;\n",
       "    }\n",
       "\n",
       "    .dataframe thead th {\n",
       "        text-align: right;\n",
       "    }\n",
       "</style>\n",
       "<table border=\"1\" class=\"dataframe\">\n",
       "  <thead>\n",
       "    <tr style=\"text-align: right;\">\n",
       "      <th></th>\n",
       "      <th>p1</th>\n",
       "      <th>p2</th>\n",
       "      <th>p1_nl</th>\n",
       "      <th>p2_nl</th>\n",
       "      <th>etr_c</th>\n",
       "    </tr>\n",
       "  </thead>\n",
       "  <tbody>\n",
       "    <tr>\n",
       "      <th>3580</th>\n",
       "      <td>{Nine(),King()}^{~Jack()}</td>\n",
       "      <td>{King()}^{One(),~One(),King()}</td>\n",
       "      <td>if there is not a jack, then either there is a...</td>\n",
       "      <td>if either there is a one, or there is not a on...</td>\n",
       "      <td>{King()}</td>\n",
       "    </tr>\n",
       "    <tr>\n",
       "      <th>3593</th>\n",
       "      <td>{Nine(),King()}^{~Jack()}</td>\n",
       "      <td>{One()}^{~Four(),Three(),~Three()}</td>\n",
       "      <td>if there is not a jack, then either there is a...</td>\n",
       "      <td>if either there is not a four, or there is a t...</td>\n",
       "      <td>{One()}</td>\n",
       "    </tr>\n",
       "    <tr>\n",
       "      <th>3601</th>\n",
       "      <td>{Nine(),King()}^{~Jack()}</td>\n",
       "      <td>{Two()}^{Two(),~Two()}</td>\n",
       "      <td>if there is not a jack, then either there is a...</td>\n",
       "      <td>if either there is a two, or there is not a tw...</td>\n",
       "      <td>{Two()}</td>\n",
       "    </tr>\n",
       "    <tr>\n",
       "      <th>3614</th>\n",
       "      <td>{Nine(),King()}^{~Jack()}</td>\n",
       "      <td>{Ten()}^{~Ten(),Ten()}</td>\n",
       "      <td>if there is not a jack, then either there is a...</td>\n",
       "      <td>if either there is not a ten, or there is a te...</td>\n",
       "      <td>{Ten()}</td>\n",
       "    </tr>\n",
       "    <tr>\n",
       "      <th>3656</th>\n",
       "      <td>{Nine(),King()}^{~Jack()}</td>\n",
       "      <td>{Two()}^{Ace(),Two(),~Two()}</td>\n",
       "      <td>if there is not a jack, then either there is a...</td>\n",
       "      <td>if either there is an ace, or there is a two, ...</td>\n",
       "      <td>{Two()}</td>\n",
       "    </tr>\n",
       "    <tr>\n",
       "      <th>...</th>\n",
       "      <td>...</td>\n",
       "      <td>...</td>\n",
       "      <td>...</td>\n",
       "      <td>...</td>\n",
       "      <td>...</td>\n",
       "    </tr>\n",
       "    <tr>\n",
       "      <th>297161</th>\n",
       "      <td>{Ten(),King()}^{~King()}</td>\n",
       "      <td>{Seven()}^{One(),~Four(),~One()}</td>\n",
       "      <td>if there is not a king, then either there is a...</td>\n",
       "      <td>if either there is a one, or there is not a fo...</td>\n",
       "      <td>{Seven()}</td>\n",
       "    </tr>\n",
       "    <tr>\n",
       "      <th>297170</th>\n",
       "      <td>{Ten(),King()}^{~King()}</td>\n",
       "      <td>{One()}^{Ace(),~Ace()}</td>\n",
       "      <td>if there is not a king, then either there is a...</td>\n",
       "      <td>if either there is an ace, or there is not an ...</td>\n",
       "      <td>{One()}</td>\n",
       "    </tr>\n",
       "    <tr>\n",
       "      <th>297185</th>\n",
       "      <td>{Ten(),King()}^{~King()}</td>\n",
       "      <td>{Ten()}^{~Ten(),Ten()}</td>\n",
       "      <td>if there is not a king, then either there is a...</td>\n",
       "      <td>if either there is not a ten, or there is a te...</td>\n",
       "      <td>{Ten()}</td>\n",
       "    </tr>\n",
       "    <tr>\n",
       "      <th>297335</th>\n",
       "      <td>{Ten(),King()}^{~King()}</td>\n",
       "      <td>{Seven()}^{~Seven(),Seven()}</td>\n",
       "      <td>if there is not a king, then either there is a...</td>\n",
       "      <td>if either there is not a seven, or there is a ...</td>\n",
       "      <td>{Seven()}</td>\n",
       "    </tr>\n",
       "    <tr>\n",
       "      <th>297368</th>\n",
       "      <td>{Ten(),King()}^{~King()}</td>\n",
       "      <td>{~Ten()}^{~Ten(),Ten()}</td>\n",
       "      <td>if there is not a king, then either there is a...</td>\n",
       "      <td>if either there is not a ten, or there is a te...</td>\n",
       "      <td>{King()}</td>\n",
       "    </tr>\n",
       "  </tbody>\n",
       "</table>\n",
       "<p>8489 rows × 5 columns</p>\n",
       "</div>"
      ],
      "text/plain": [
       "                               p1                                  p2  \\\n",
       "3580    {Nine(),King()}^{~Jack()}      {King()}^{One(),~One(),King()}   \n",
       "3593    {Nine(),King()}^{~Jack()}  {One()}^{~Four(),Three(),~Three()}   \n",
       "3601    {Nine(),King()}^{~Jack()}              {Two()}^{Two(),~Two()}   \n",
       "3614    {Nine(),King()}^{~Jack()}              {Ten()}^{~Ten(),Ten()}   \n",
       "3656    {Nine(),King()}^{~Jack()}        {Two()}^{Ace(),Two(),~Two()}   \n",
       "...                           ...                                 ...   \n",
       "297161   {Ten(),King()}^{~King()}    {Seven()}^{One(),~Four(),~One()}   \n",
       "297170   {Ten(),King()}^{~King()}              {One()}^{Ace(),~Ace()}   \n",
       "297185   {Ten(),King()}^{~King()}              {Ten()}^{~Ten(),Ten()}   \n",
       "297335   {Ten(),King()}^{~King()}        {Seven()}^{~Seven(),Seven()}   \n",
       "297368   {Ten(),King()}^{~King()}             {~Ten()}^{~Ten(),Ten()}   \n",
       "\n",
       "                                                    p1_nl  \\\n",
       "3580    if there is not a jack, then either there is a...   \n",
       "3593    if there is not a jack, then either there is a...   \n",
       "3601    if there is not a jack, then either there is a...   \n",
       "3614    if there is not a jack, then either there is a...   \n",
       "3656    if there is not a jack, then either there is a...   \n",
       "...                                                   ...   \n",
       "297161  if there is not a king, then either there is a...   \n",
       "297170  if there is not a king, then either there is a...   \n",
       "297185  if there is not a king, then either there is a...   \n",
       "297335  if there is not a king, then either there is a...   \n",
       "297368  if there is not a king, then either there is a...   \n",
       "\n",
       "                                                    p2_nl      etr_c  \n",
       "3580    if either there is a one, or there is not a on...   {King()}  \n",
       "3593    if either there is not a four, or there is a t...    {One()}  \n",
       "3601    if either there is a two, or there is not a tw...    {Two()}  \n",
       "3614    if either there is not a ten, or there is a te...    {Ten()}  \n",
       "3656    if either there is an ace, or there is a two, ...    {Two()}  \n",
       "...                                                   ...        ...  \n",
       "297161  if either there is a one, or there is not a fo...  {Seven()}  \n",
       "297170  if either there is an ace, or there is not an ...    {One()}  \n",
       "297185  if either there is not a ten, or there is a te...    {Ten()}  \n",
       "297335  if either there is not a seven, or there is a ...  {Seven()}  \n",
       "297368  if either there is not a ten, or there is a te...   {King()}  \n",
       "\n",
       "[8489 rows x 5 columns]"
      ]
     },
     "execution_count": 64,
     "metadata": {},
     "output_type": "execute_result"
    }
   ],
   "source": [
    "cat_c_df"
   ]
  },
  {
   "cell_type": "code",
   "execution_count": null,
   "metadata": {},
   "outputs": [],
   "source": []
  }
 ],
 "metadata": {
  "kernelspec": {
   "display_name": ".venv",
   "language": "python",
   "name": "python3"
  },
  "language_info": {
   "codemirror_mode": {
    "name": "ipython",
    "version": 3
   },
   "file_extension": ".py",
   "mimetype": "text/x-python",
   "name": "python",
   "nbconvert_exporter": "python",
   "pygments_lexer": "ipython3",
   "version": "3.12.5"
  }
 },
 "nbformat": 4,
 "nbformat_minor": 2
}
