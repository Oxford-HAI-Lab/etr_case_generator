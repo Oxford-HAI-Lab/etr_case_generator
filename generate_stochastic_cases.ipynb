{
 "cells": [
  {
   "cell_type": "code",
   "execution_count": 1,
   "metadata": {},
   "outputs": [],
   "source": [
    "import pandas as pd\n",
    "\n",
    "from generate_cases import generate_views, view_to_natural_language\n",
    "from pyetr.inference import (\n",
    "    default_inference_procedure,\n",
    "    classically_valid_inference_procedure,\n",
    ")"
   ]
  },
  {
   "cell_type": "code",
   "execution_count": 2,
   "metadata": {},
   "outputs": [],
   "source": [
    "views = generate_views(\n",
    "    n_views=400,\n",
    "    max_conjuncts=3,\n",
    "    max_disjuncts=3,\n",
    "    generate_supposition=True,\n",
    "    neg_prob=0.2,\n",
    ")"
   ]
  },
  {
   "cell_type": "code",
   "execution_count": 3,
   "metadata": {},
   "outputs": [],
   "source": [
    "# Get all ordered pairs of views\n",
    "premises = [(v1, v2) for v1 in views for v2 in views]"
   ]
  },
  {
   "cell_type": "code",
   "execution_count": 4,
   "metadata": {},
   "outputs": [],
   "source": [
    "df = pd.DataFrame(premises, columns=[\"p1\", \"p2\"])"
   ]
  },
  {
   "cell_type": "code",
   "execution_count": 5,
   "metadata": {},
   "outputs": [
    {
     "data": {
      "text/html": [
       "<div>\n",
       "<style scoped>\n",
       "    .dataframe tbody tr th:only-of-type {\n",
       "        vertical-align: middle;\n",
       "    }\n",
       "\n",
       "    .dataframe tbody tr th {\n",
       "        vertical-align: top;\n",
       "    }\n",
       "\n",
       "    .dataframe thead th {\n",
       "        text-align: right;\n",
       "    }\n",
       "</style>\n",
       "<table border=\"1\" class=\"dataframe\">\n",
       "  <thead>\n",
       "    <tr style=\"text-align: right;\">\n",
       "      <th></th>\n",
       "      <th>p1</th>\n",
       "      <th>p2</th>\n",
       "    </tr>\n",
       "  </thead>\n",
       "  <tbody>\n",
       "    <tr>\n",
       "      <th>0</th>\n",
       "      <td>{Five()~Eight(),Ace(),Five()Three()Eight()}^{A...</td>\n",
       "      <td>{Five()~Eight(),Ace(),Five()Three()Eight()}^{A...</td>\n",
       "    </tr>\n",
       "    <tr>\n",
       "      <th>1</th>\n",
       "      <td>{Five()~Eight(),Ace(),Five()Three()Eight()}^{A...</td>\n",
       "      <td>{~Three()Ten()One(),Six()Four(),Queen()}^{}</td>\n",
       "    </tr>\n",
       "    <tr>\n",
       "      <th>2</th>\n",
       "      <td>{Five()~Eight(),Ace(),Five()Three()Eight()}^{A...</td>\n",
       "      <td>{Three()~Seven()One(),Jack()Two()Ace(),~Seven(...</td>\n",
       "    </tr>\n",
       "    <tr>\n",
       "      <th>3</th>\n",
       "      <td>{Five()~Eight(),Ace(),Five()Three()Eight()}^{A...</td>\n",
       "      <td>{Queen()Three()}^{~Ten()~Six()Four()}</td>\n",
       "    </tr>\n",
       "    <tr>\n",
       "      <th>4</th>\n",
       "      <td>{Five()~Eight(),Ace(),Five()Three()Eight()}^{A...</td>\n",
       "      <td>{Nine()One()}^{}</td>\n",
       "    </tr>\n",
       "  </tbody>\n",
       "</table>\n",
       "</div>"
      ],
      "text/plain": [
       "                                                  p1  \\\n",
       "0  {Five()~Eight(),Ace(),Five()Three()Eight()}^{A...   \n",
       "1  {Five()~Eight(),Ace(),Five()Three()Eight()}^{A...   \n",
       "2  {Five()~Eight(),Ace(),Five()Three()Eight()}^{A...   \n",
       "3  {Five()~Eight(),Ace(),Five()Three()Eight()}^{A...   \n",
       "4  {Five()~Eight(),Ace(),Five()Three()Eight()}^{A...   \n",
       "\n",
       "                                                  p2  \n",
       "0  {Five()~Eight(),Ace(),Five()Three()Eight()}^{A...  \n",
       "1        {~Three()Ten()One(),Six()Four(),Queen()}^{}  \n",
       "2  {Three()~Seven()One(),Jack()Two()Ace(),~Seven(...  \n",
       "3              {Queen()Three()}^{~Ten()~Six()Four()}  \n",
       "4                                   {Nine()One()}^{}  "
      ]
     },
     "execution_count": 5,
     "metadata": {},
     "output_type": "execute_result"
    }
   ],
   "source": [
    "df.head()"
   ]
  },
  {
   "cell_type": "code",
   "execution_count": 6,
   "metadata": {},
   "outputs": [],
   "source": [
    "df[\"p1_nl\"] = df[\"p1\"].apply(view_to_natural_language)\n",
    "df[\"p2_nl\"] = df[\"p2\"].apply(view_to_natural_language)"
   ]
  },
  {
   "cell_type": "code",
   "execution_count": 7,
   "metadata": {},
   "outputs": [
    {
     "data": {
      "text/html": [
       "<div>\n",
       "<style scoped>\n",
       "    .dataframe tbody tr th:only-of-type {\n",
       "        vertical-align: middle;\n",
       "    }\n",
       "\n",
       "    .dataframe tbody tr th {\n",
       "        vertical-align: top;\n",
       "    }\n",
       "\n",
       "    .dataframe thead th {\n",
       "        text-align: right;\n",
       "    }\n",
       "</style>\n",
       "<table border=\"1\" class=\"dataframe\">\n",
       "  <thead>\n",
       "    <tr style=\"text-align: right;\">\n",
       "      <th></th>\n",
       "      <th>p1</th>\n",
       "      <th>p2</th>\n",
       "      <th>p1_nl</th>\n",
       "      <th>p2_nl</th>\n",
       "    </tr>\n",
       "  </thead>\n",
       "  <tbody>\n",
       "    <tr>\n",
       "      <th>0</th>\n",
       "      <td>{Five()~Eight(),Ace(),Five()Three()Eight()}^{A...</td>\n",
       "      <td>{Five()~Eight(),Ace(),Five()Three()Eight()}^{A...</td>\n",
       "      <td>if either there is an ace and an eight, or the...</td>\n",
       "      <td>if either there is an ace and an eight, or the...</td>\n",
       "    </tr>\n",
       "    <tr>\n",
       "      <th>1</th>\n",
       "      <td>{Five()~Eight(),Ace(),Five()Three()Eight()}^{A...</td>\n",
       "      <td>{~Three()Ten()One(),Six()Four(),Queen()}^{}</td>\n",
       "      <td>if either there is an ace and an eight, or the...</td>\n",
       "      <td>either there is a ten and a one and not a thre...</td>\n",
       "    </tr>\n",
       "    <tr>\n",
       "      <th>2</th>\n",
       "      <td>{Five()~Eight(),Ace(),Five()Three()Eight()}^{A...</td>\n",
       "      <td>{Three()~Seven()One(),Jack()Two()Ace(),~Seven(...</td>\n",
       "      <td>if either there is an ace and an eight, or the...</td>\n",
       "      <td>either there is a three and a one and not a se...</td>\n",
       "    </tr>\n",
       "    <tr>\n",
       "      <th>3</th>\n",
       "      <td>{Five()~Eight(),Ace(),Five()Three()Eight()}^{A...</td>\n",
       "      <td>{Queen()Three()}^{~Ten()~Six()Four()}</td>\n",
       "      <td>if either there is an ace and an eight, or the...</td>\n",
       "      <td>if there is a four and not a ten and not a six...</td>\n",
       "    </tr>\n",
       "    <tr>\n",
       "      <th>4</th>\n",
       "      <td>{Five()~Eight(),Ace(),Five()Three()Eight()}^{A...</td>\n",
       "      <td>{Nine()One()}^{}</td>\n",
       "      <td>if either there is an ace and an eight, or the...</td>\n",
       "      <td>there is a nine and a one</td>\n",
       "    </tr>\n",
       "  </tbody>\n",
       "</table>\n",
       "</div>"
      ],
      "text/plain": [
       "                                                  p1  \\\n",
       "0  {Five()~Eight(),Ace(),Five()Three()Eight()}^{A...   \n",
       "1  {Five()~Eight(),Ace(),Five()Three()Eight()}^{A...   \n",
       "2  {Five()~Eight(),Ace(),Five()Three()Eight()}^{A...   \n",
       "3  {Five()~Eight(),Ace(),Five()Three()Eight()}^{A...   \n",
       "4  {Five()~Eight(),Ace(),Five()Three()Eight()}^{A...   \n",
       "\n",
       "                                                  p2  \\\n",
       "0  {Five()~Eight(),Ace(),Five()Three()Eight()}^{A...   \n",
       "1        {~Three()Ten()One(),Six()Four(),Queen()}^{}   \n",
       "2  {Three()~Seven()One(),Jack()Two()Ace(),~Seven(...   \n",
       "3              {Queen()Three()}^{~Ten()~Six()Four()}   \n",
       "4                                   {Nine()One()}^{}   \n",
       "\n",
       "                                               p1_nl  \\\n",
       "0  if either there is an ace and an eight, or the...   \n",
       "1  if either there is an ace and an eight, or the...   \n",
       "2  if either there is an ace and an eight, or the...   \n",
       "3  if either there is an ace and an eight, or the...   \n",
       "4  if either there is an ace and an eight, or the...   \n",
       "\n",
       "                                               p2_nl  \n",
       "0  if either there is an ace and an eight, or the...  \n",
       "1  either there is a ten and a one and not a thre...  \n",
       "2  either there is a three and a one and not a se...  \n",
       "3  if there is a four and not a ten and not a six...  \n",
       "4                          there is a nine and a one  "
      ]
     },
     "execution_count": 7,
     "metadata": {},
     "output_type": "execute_result"
    }
   ],
   "source": [
    "df.head()"
   ]
  },
  {
   "cell_type": "code",
   "execution_count": 8,
   "metadata": {},
   "outputs": [
    {
     "data": {
      "text/plain": [
       "160000"
      ]
     },
     "execution_count": 8,
     "metadata": {},
     "output_type": "execute_result"
    }
   ],
   "source": [
    "len(df)"
   ]
  },
  {
   "cell_type": "code",
   "execution_count": 9,
   "metadata": {},
   "outputs": [
    {
     "data": {
      "application/vnd.jupyter.widget-view+json": {
       "model_id": "959765b83f874a4eb9eff7c671a2af80",
       "version_major": 2,
       "version_minor": 0
      },
      "text/plain": [
       "  0%|          | 0/160000 [00:00<?, ?it/s]"
      ]
     },
     "metadata": {},
     "output_type": "display_data"
    }
   ],
   "source": [
    "from tqdm.notebook import tqdm\n",
    "tqdm.pandas()\n",
    "\n",
    "df[\"etr_c\"] = df.progress_apply(lambda row: default_inference_procedure([row[\"p1\"], row[\"p2\"]]), axis=1)"
   ]
  },
  {
   "cell_type": "code",
   "execution_count": 10,
   "metadata": {},
   "outputs": [
    {
     "data": {
      "text/html": [
       "<div>\n",
       "<style scoped>\n",
       "    .dataframe tbody tr th:only-of-type {\n",
       "        vertical-align: middle;\n",
       "    }\n",
       "\n",
       "    .dataframe tbody tr th {\n",
       "        vertical-align: top;\n",
       "    }\n",
       "\n",
       "    .dataframe thead th {\n",
       "        text-align: right;\n",
       "    }\n",
       "</style>\n",
       "<table border=\"1\" class=\"dataframe\">\n",
       "  <thead>\n",
       "    <tr style=\"text-align: right;\">\n",
       "      <th></th>\n",
       "      <th>p1</th>\n",
       "      <th>p2</th>\n",
       "      <th>p1_nl</th>\n",
       "      <th>p2_nl</th>\n",
       "      <th>etr_c</th>\n",
       "    </tr>\n",
       "  </thead>\n",
       "  <tbody>\n",
       "    <tr>\n",
       "      <th>0</th>\n",
       "      <td>{Five()~Eight(),Ace(),Five()Three()Eight()}^{A...</td>\n",
       "      <td>{Five()~Eight(),Ace(),Five()Three()Eight()}^{A...</td>\n",
       "      <td>if either there is an ace and an eight, or the...</td>\n",
       "      <td>if either there is an ace and an eight, or the...</td>\n",
       "      <td>{Five()~Eight(),~Ace()~Eight(),Five()Three()Ei...</td>\n",
       "    </tr>\n",
       "    <tr>\n",
       "      <th>1</th>\n",
       "      <td>{Five()~Eight(),Ace(),Five()Three()Eight()}^{A...</td>\n",
       "      <td>{~Three()Ten()One(),Six()Four(),Queen()}^{}</td>\n",
       "      <td>if either there is an ace and an eight, or the...</td>\n",
       "      <td>either there is a ten and a one and not a thre...</td>\n",
       "      <td>{Five()~Eight(),~Ace()~Eight(),Five()Three()Ei...</td>\n",
       "    </tr>\n",
       "    <tr>\n",
       "      <th>2</th>\n",
       "      <td>{Five()~Eight(),Ace(),Five()Three()Eight()}^{A...</td>\n",
       "      <td>{Three()~Seven()One(),Jack()Two()Ace(),~Seven(...</td>\n",
       "      <td>if either there is an ace and an eight, or the...</td>\n",
       "      <td>either there is a three and a one and not a se...</td>\n",
       "      <td>{Five()~Eight(),~Ace()~Eight(),Five()Three()Ei...</td>\n",
       "    </tr>\n",
       "    <tr>\n",
       "      <th>3</th>\n",
       "      <td>{Five()~Eight(),Ace(),Five()Three()Eight()}^{A...</td>\n",
       "      <td>{Queen()Three()}^{~Ten()~Six()Four()}</td>\n",
       "      <td>if either there is an ace and an eight, or the...</td>\n",
       "      <td>if there is a four and not a ten and not a six...</td>\n",
       "      <td>{Five()~Eight(),~Ace()~Eight(),Five()Three()Ei...</td>\n",
       "    </tr>\n",
       "    <tr>\n",
       "      <th>4</th>\n",
       "      <td>{Five()~Eight(),Ace(),Five()Three()Eight()}^{A...</td>\n",
       "      <td>{Nine()One()}^{}</td>\n",
       "      <td>if either there is an ace and an eight, or the...</td>\n",
       "      <td>there is a nine and a one</td>\n",
       "      <td>{Five()~Eight(),~Ace()~Eight(),Five()Three()Ei...</td>\n",
       "    </tr>\n",
       "  </tbody>\n",
       "</table>\n",
       "</div>"
      ],
      "text/plain": [
       "                                                  p1  \\\n",
       "0  {Five()~Eight(),Ace(),Five()Three()Eight()}^{A...   \n",
       "1  {Five()~Eight(),Ace(),Five()Three()Eight()}^{A...   \n",
       "2  {Five()~Eight(),Ace(),Five()Three()Eight()}^{A...   \n",
       "3  {Five()~Eight(),Ace(),Five()Three()Eight()}^{A...   \n",
       "4  {Five()~Eight(),Ace(),Five()Three()Eight()}^{A...   \n",
       "\n",
       "                                                  p2  \\\n",
       "0  {Five()~Eight(),Ace(),Five()Three()Eight()}^{A...   \n",
       "1        {~Three()Ten()One(),Six()Four(),Queen()}^{}   \n",
       "2  {Three()~Seven()One(),Jack()Two()Ace(),~Seven(...   \n",
       "3              {Queen()Three()}^{~Ten()~Six()Four()}   \n",
       "4                                   {Nine()One()}^{}   \n",
       "\n",
       "                                               p1_nl  \\\n",
       "0  if either there is an ace and an eight, or the...   \n",
       "1  if either there is an ace and an eight, or the...   \n",
       "2  if either there is an ace and an eight, or the...   \n",
       "3  if either there is an ace and an eight, or the...   \n",
       "4  if either there is an ace and an eight, or the...   \n",
       "\n",
       "                                               p2_nl  \\\n",
       "0  if either there is an ace and an eight, or the...   \n",
       "1  either there is a ten and a one and not a thre...   \n",
       "2  either there is a three and a one and not a se...   \n",
       "3  if there is a four and not a ten and not a six...   \n",
       "4                          there is a nine and a one   \n",
       "\n",
       "                                               etr_c  \n",
       "0  {Five()~Eight(),~Ace()~Eight(),Five()Three()Ei...  \n",
       "1  {Five()~Eight(),~Ace()~Eight(),Five()Three()Ei...  \n",
       "2  {Five()~Eight(),~Ace()~Eight(),Five()Three()Ei...  \n",
       "3  {Five()~Eight(),~Ace()~Eight(),Five()Three()Ei...  \n",
       "4  {Five()~Eight(),~Ace()~Eight(),Five()Three()Ei...  "
      ]
     },
     "execution_count": 10,
     "metadata": {},
     "output_type": "execute_result"
    }
   ],
   "source": [
    "df.head()"
   ]
  },
  {
   "cell_type": "code",
   "execution_count": 11,
   "metadata": {},
   "outputs": [
    {
     "data": {
      "text/html": [
       "<div>\n",
       "<style scoped>\n",
       "    .dataframe tbody tr th:only-of-type {\n",
       "        vertical-align: middle;\n",
       "    }\n",
       "\n",
       "    .dataframe tbody tr th {\n",
       "        vertical-align: top;\n",
       "    }\n",
       "\n",
       "    .dataframe thead th {\n",
       "        text-align: right;\n",
       "    }\n",
       "</style>\n",
       "<table border=\"1\" class=\"dataframe\">\n",
       "  <thead>\n",
       "    <tr style=\"text-align: right;\">\n",
       "      <th></th>\n",
       "      <th>p1</th>\n",
       "      <th>p2</th>\n",
       "      <th>p1_nl</th>\n",
       "      <th>p2_nl</th>\n",
       "      <th>etr_c</th>\n",
       "    </tr>\n",
       "  </thead>\n",
       "  <tbody>\n",
       "  </tbody>\n",
       "</table>\n",
       "</div>"
      ],
      "text/plain": [
       "Empty DataFrame\n",
       "Columns: [p1, p2, p1_nl, p2_nl, etr_c]\n",
       "Index: []"
      ]
     },
     "execution_count": 11,
     "metadata": {},
     "output_type": "execute_result"
    }
   ],
   "source": [
    "cat_c_df = df[df[\"etr_c\"].apply(lambda x: len(x.stage) == 1 and not x.is_verum)]\n",
    "cat_c_df[\n",
    "    (cat_c_df[\"p2\"].apply(lambda x: len(x.stage) > 1)) &\n",
    "    (cat_c_df[\"p1\"].apply(lambda x: len(x.stage) > 1))\n",
    "]"
   ]
  },
  {
   "cell_type": "code",
   "execution_count": null,
   "metadata": {},
   "outputs": [],
   "source": []
  }
 ],
 "metadata": {
  "kernelspec": {
   "display_name": ".venv",
   "language": "python",
   "name": "python3"
  },
  "language_info": {
   "codemirror_mode": {
    "name": "ipython",
    "version": 3
   },
   "file_extension": ".py",
   "mimetype": "text/x-python",
   "name": "python",
   "nbconvert_exporter": "python",
   "pygments_lexer": "ipython3",
   "version": "3.12.5"
  }
 },
 "nbformat": 4,
 "nbformat_minor": 2
}
