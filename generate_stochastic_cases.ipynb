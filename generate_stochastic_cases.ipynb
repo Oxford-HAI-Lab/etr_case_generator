{
 "cells": [
  {
   "cell_type": "code",
   "execution_count": 4,
   "metadata": {},
   "outputs": [],
   "source": [
    "import pandas as pd\n",
    "\n",
    "from generate_cases import generate_views, view_to_natural_language\n",
    "from pyetr.inference import (\n",
    "    default_inference_procedure,\n",
    "    classically_valid_inference_procedure,\n",
    ")"
   ]
  },
  {
   "cell_type": "code",
   "execution_count": 12,
   "metadata": {},
   "outputs": [],
   "source": [
    "views = generate_views(\n",
    "    n_views=1000,\n",
    "    max_conjuncts=3,\n",
    "    max_disjuncts=3,\n",
    "    generate_supposition=True,\n",
    "    neg_prob=0.2,\n",
    ")"
   ]
  },
  {
   "cell_type": "code",
   "execution_count": 13,
   "metadata": {},
   "outputs": [],
   "source": [
    "from pyetr.view import View\n",
    "def generate_premises(views: list[View]) -> list[tuple[View, ...]]:\n",
    "    ret = []\n",
    "    for v1 in views:\n",
    "        for v2 in views:\n",
    "            if len(v1.atoms.intersection(v2.atoms)) > 1:\n",
    "                ret.append((v1, v2))\n",
    "    return ret"
   ]
  },
  {
   "cell_type": "code",
   "execution_count": 14,
   "metadata": {},
   "outputs": [],
   "source": [
    "premises = generate_premises(views)"
   ]
  },
  {
   "cell_type": "code",
   "execution_count": 15,
   "metadata": {},
   "outputs": [
    {
     "data": {
      "text/plain": [
       "32998"
      ]
     },
     "execution_count": 15,
     "metadata": {},
     "output_type": "execute_result"
    }
   ],
   "source": [
    "len(premises)"
   ]
  },
  {
   "cell_type": "code",
   "execution_count": 3,
   "metadata": {},
   "outputs": [],
   "source": [
    "# Get all ordered pairs of views -- too naive\n",
    "# premises = [(v1, v2) for v1 in views for v2 in views]"
   ]
  },
  {
   "cell_type": "code",
   "execution_count": 16,
   "metadata": {},
   "outputs": [],
   "source": [
    "df = pd.DataFrame(premises, columns=[\"p1\", \"p2\"])"
   ]
  },
  {
   "cell_type": "code",
   "execution_count": 17,
   "metadata": {},
   "outputs": [
    {
     "data": {
      "text/html": [
       "<div>\n",
       "<style scoped>\n",
       "    .dataframe tbody tr th:only-of-type {\n",
       "        vertical-align: middle;\n",
       "    }\n",
       "\n",
       "    .dataframe tbody tr th {\n",
       "        vertical-align: top;\n",
       "    }\n",
       "\n",
       "    .dataframe thead th {\n",
       "        text-align: right;\n",
       "    }\n",
       "</style>\n",
       "<table border=\"1\" class=\"dataframe\">\n",
       "  <thead>\n",
       "    <tr style=\"text-align: right;\">\n",
       "      <th></th>\n",
       "      <th>p1</th>\n",
       "      <th>p2</th>\n",
       "    </tr>\n",
       "  </thead>\n",
       "  <tbody>\n",
       "    <tr>\n",
       "      <th>0</th>\n",
       "      <td>{Eight()Three()One(),Seven()Jack()}^{Six()~Eig...</td>\n",
       "      <td>{Eight()Three()One(),Seven()Jack()}^{Six()~Eig...</td>\n",
       "    </tr>\n",
       "    <tr>\n",
       "      <th>1</th>\n",
       "      <td>{Eight()Three()One(),Seven()Jack()}^{Six()~Eig...</td>\n",
       "      <td>{Six()Seven()}^{}</td>\n",
       "    </tr>\n",
       "    <tr>\n",
       "      <th>2</th>\n",
       "      <td>{Eight()Three()One(),Seven()Jack()}^{Six()~Eig...</td>\n",
       "      <td>{One(),Nine(),Seven()}^{Nine()Four(),One()Four()}</td>\n",
       "    </tr>\n",
       "    <tr>\n",
       "      <th>3</th>\n",
       "      <td>{Eight()Three()One(),Seven()Jack()}^{Six()~Eig...</td>\n",
       "      <td>{Nine()Two(),Eight()Jack()}^{Three()Five(),Two...</td>\n",
       "    </tr>\n",
       "    <tr>\n",
       "      <th>4</th>\n",
       "      <td>{Eight()Three()One(),Seven()Jack()}^{Six()~Eig...</td>\n",
       "      <td>{Five(),~King(),Three()Seven()}^{}</td>\n",
       "    </tr>\n",
       "  </tbody>\n",
       "</table>\n",
       "</div>"
      ],
      "text/plain": [
       "                                                  p1  \\\n",
       "0  {Eight()Three()One(),Seven()Jack()}^{Six()~Eig...   \n",
       "1  {Eight()Three()One(),Seven()Jack()}^{Six()~Eig...   \n",
       "2  {Eight()Three()One(),Seven()Jack()}^{Six()~Eig...   \n",
       "3  {Eight()Three()One(),Seven()Jack()}^{Six()~Eig...   \n",
       "4  {Eight()Three()One(),Seven()Jack()}^{Six()~Eig...   \n",
       "\n",
       "                                                  p2  \n",
       "0  {Eight()Three()One(),Seven()Jack()}^{Six()~Eig...  \n",
       "1                                  {Six()Seven()}^{}  \n",
       "2  {One(),Nine(),Seven()}^{Nine()Four(),One()Four()}  \n",
       "3  {Nine()Two(),Eight()Jack()}^{Three()Five(),Two...  \n",
       "4                 {Five(),~King(),Three()Seven()}^{}  "
      ]
     },
     "execution_count": 17,
     "metadata": {},
     "output_type": "execute_result"
    }
   ],
   "source": [
    "df.head()"
   ]
  },
  {
   "cell_type": "code",
   "execution_count": 18,
   "metadata": {},
   "outputs": [],
   "source": [
    "df[\"p1_nl\"] = df[\"p1\"].apply(view_to_natural_language)\n",
    "df[\"p2_nl\"] = df[\"p2\"].apply(view_to_natural_language)"
   ]
  },
  {
   "cell_type": "code",
   "execution_count": 19,
   "metadata": {},
   "outputs": [
    {
     "data": {
      "text/html": [
       "<div>\n",
       "<style scoped>\n",
       "    .dataframe tbody tr th:only-of-type {\n",
       "        vertical-align: middle;\n",
       "    }\n",
       "\n",
       "    .dataframe tbody tr th {\n",
       "        vertical-align: top;\n",
       "    }\n",
       "\n",
       "    .dataframe thead th {\n",
       "        text-align: right;\n",
       "    }\n",
       "</style>\n",
       "<table border=\"1\" class=\"dataframe\">\n",
       "  <thead>\n",
       "    <tr style=\"text-align: right;\">\n",
       "      <th></th>\n",
       "      <th>p1</th>\n",
       "      <th>p2</th>\n",
       "      <th>p1_nl</th>\n",
       "      <th>p2_nl</th>\n",
       "    </tr>\n",
       "  </thead>\n",
       "  <tbody>\n",
       "    <tr>\n",
       "      <th>0</th>\n",
       "      <td>{Eight()Three()One(),Seven()Jack()}^{Six()~Eig...</td>\n",
       "      <td>{Eight()Three()One(),Seven()Jack()}^{Six()~Eig...</td>\n",
       "      <td>if either there is a six and not an eight and ...</td>\n",
       "      <td>if either there is a six and not an eight and ...</td>\n",
       "    </tr>\n",
       "    <tr>\n",
       "      <th>1</th>\n",
       "      <td>{Eight()Three()One(),Seven()Jack()}^{Six()~Eig...</td>\n",
       "      <td>{Six()Seven()}^{}</td>\n",
       "      <td>if either there is a six and not an eight and ...</td>\n",
       "      <td>there is a six and a seven</td>\n",
       "    </tr>\n",
       "    <tr>\n",
       "      <th>2</th>\n",
       "      <td>{Eight()Three()One(),Seven()Jack()}^{Six()~Eig...</td>\n",
       "      <td>{One(),Nine(),Seven()}^{Nine()Four(),One()Four()}</td>\n",
       "      <td>if either there is a six and not an eight and ...</td>\n",
       "      <td>if either there is a nine and a four, or there...</td>\n",
       "    </tr>\n",
       "    <tr>\n",
       "      <th>3</th>\n",
       "      <td>{Eight()Three()One(),Seven()Jack()}^{Six()~Eig...</td>\n",
       "      <td>{Nine()Two(),Eight()Jack()}^{Three()Five(),Two...</td>\n",
       "      <td>if either there is a six and not an eight and ...</td>\n",
       "      <td>if either there is a three and a five, or ther...</td>\n",
       "    </tr>\n",
       "    <tr>\n",
       "      <th>4</th>\n",
       "      <td>{Eight()Three()One(),Seven()Jack()}^{Six()~Eig...</td>\n",
       "      <td>{Five(),~King(),Three()Seven()}^{}</td>\n",
       "      <td>if either there is a six and not an eight and ...</td>\n",
       "      <td>either there is a five, or there is not a king...</td>\n",
       "    </tr>\n",
       "  </tbody>\n",
       "</table>\n",
       "</div>"
      ],
      "text/plain": [
       "                                                  p1  \\\n",
       "0  {Eight()Three()One(),Seven()Jack()}^{Six()~Eig...   \n",
       "1  {Eight()Three()One(),Seven()Jack()}^{Six()~Eig...   \n",
       "2  {Eight()Three()One(),Seven()Jack()}^{Six()~Eig...   \n",
       "3  {Eight()Three()One(),Seven()Jack()}^{Six()~Eig...   \n",
       "4  {Eight()Three()One(),Seven()Jack()}^{Six()~Eig...   \n",
       "\n",
       "                                                  p2  \\\n",
       "0  {Eight()Three()One(),Seven()Jack()}^{Six()~Eig...   \n",
       "1                                  {Six()Seven()}^{}   \n",
       "2  {One(),Nine(),Seven()}^{Nine()Four(),One()Four()}   \n",
       "3  {Nine()Two(),Eight()Jack()}^{Three()Five(),Two...   \n",
       "4                 {Five(),~King(),Three()Seven()}^{}   \n",
       "\n",
       "                                               p1_nl  \\\n",
       "0  if either there is a six and not an eight and ...   \n",
       "1  if either there is a six and not an eight and ...   \n",
       "2  if either there is a six and not an eight and ...   \n",
       "3  if either there is a six and not an eight and ...   \n",
       "4  if either there is a six and not an eight and ...   \n",
       "\n",
       "                                               p2_nl  \n",
       "0  if either there is a six and not an eight and ...  \n",
       "1                         there is a six and a seven  \n",
       "2  if either there is a nine and a four, or there...  \n",
       "3  if either there is a three and a five, or ther...  \n",
       "4  either there is a five, or there is not a king...  "
      ]
     },
     "execution_count": 19,
     "metadata": {},
     "output_type": "execute_result"
    }
   ],
   "source": [
    "df.head()"
   ]
  },
  {
   "cell_type": "code",
   "execution_count": 20,
   "metadata": {},
   "outputs": [
    {
     "data": {
      "text/plain": [
       "32998"
      ]
     },
     "execution_count": 20,
     "metadata": {},
     "output_type": "execute_result"
    }
   ],
   "source": [
    "len(df)"
   ]
  },
  {
   "cell_type": "code",
   "execution_count": 21,
   "metadata": {},
   "outputs": [
    {
     "data": {
      "application/vnd.jupyter.widget-view+json": {
       "model_id": "b35bc8364cc649d48a9d487c85867170",
       "version_major": 2,
       "version_minor": 0
      },
      "text/plain": [
       "  0%|          | 0/32998 [00:00<?, ?it/s]"
      ]
     },
     "metadata": {},
     "output_type": "display_data"
    }
   ],
   "source": [
    "from tqdm.notebook import tqdm\n",
    "tqdm.pandas()\n",
    "\n",
    "df[\"etr_c\"] = df.progress_apply(lambda row: default_inference_procedure([row[\"p1\"], row[\"p2\"]]), axis=1)"
   ]
  },
  {
   "cell_type": "code",
   "execution_count": 22,
   "metadata": {},
   "outputs": [
    {
     "data": {
      "text/html": [
       "<div>\n",
       "<style scoped>\n",
       "    .dataframe tbody tr th:only-of-type {\n",
       "        vertical-align: middle;\n",
       "    }\n",
       "\n",
       "    .dataframe tbody tr th {\n",
       "        vertical-align: top;\n",
       "    }\n",
       "\n",
       "    .dataframe thead th {\n",
       "        text-align: right;\n",
       "    }\n",
       "</style>\n",
       "<table border=\"1\" class=\"dataframe\">\n",
       "  <thead>\n",
       "    <tr style=\"text-align: right;\">\n",
       "      <th></th>\n",
       "      <th>p1</th>\n",
       "      <th>p2</th>\n",
       "      <th>p1_nl</th>\n",
       "      <th>p2_nl</th>\n",
       "      <th>etr_c</th>\n",
       "    </tr>\n",
       "  </thead>\n",
       "  <tbody>\n",
       "    <tr>\n",
       "      <th>0</th>\n",
       "      <td>{Eight()Three()One(),Seven()Jack()}^{Six()~Eig...</td>\n",
       "      <td>{Eight()Three()One(),Seven()Jack()}^{Six()~Eig...</td>\n",
       "      <td>if either there is a six and not an eight and ...</td>\n",
       "      <td>if either there is a six and not an eight and ...</td>\n",
       "      <td>{0,One()Eight()Three()Seven()Jack()}</td>\n",
       "    </tr>\n",
       "    <tr>\n",
       "      <th>1</th>\n",
       "      <td>{Eight()Three()One(),Seven()Jack()}^{Six()~Eig...</td>\n",
       "      <td>{Six()Seven()}^{}</td>\n",
       "      <td>if either there is a six and not an eight and ...</td>\n",
       "      <td>there is a six and a seven</td>\n",
       "      <td>{0,Six()Seven()}</td>\n",
       "    </tr>\n",
       "    <tr>\n",
       "      <th>2</th>\n",
       "      <td>{Eight()Three()One(),Seven()Jack()}^{Six()~Eig...</td>\n",
       "      <td>{One(),Nine(),Seven()}^{Nine()Four(),One()Four()}</td>\n",
       "      <td>if either there is a six and not an eight and ...</td>\n",
       "      <td>if either there is a nine and a four, or there...</td>\n",
       "      <td>{0,~Four()~One(),~Four()~Nine()}</td>\n",
       "    </tr>\n",
       "    <tr>\n",
       "      <th>3</th>\n",
       "      <td>{Eight()Three()One(),Seven()Jack()}^{Six()~Eig...</td>\n",
       "      <td>{Nine()Two(),Eight()Jack()}^{Three()Five(),Two...</td>\n",
       "      <td>if either there is a six and not an eight and ...</td>\n",
       "      <td>if either there is a three and a five, or ther...</td>\n",
       "      <td>{0,Three()One(),Seven()}</td>\n",
       "    </tr>\n",
       "    <tr>\n",
       "      <th>4</th>\n",
       "      <td>{Eight()Three()One(),Seven()Jack()}^{Six()~Eig...</td>\n",
       "      <td>{Five(),~King(),Three()Seven()}^{}</td>\n",
       "      <td>if either there is a six and not an eight and ...</td>\n",
       "      <td>either there is a five, or there is not a king...</td>\n",
       "      <td>{0,Five(),~King(),Three()Seven()}</td>\n",
       "    </tr>\n",
       "  </tbody>\n",
       "</table>\n",
       "</div>"
      ],
      "text/plain": [
       "                                                  p1  \\\n",
       "0  {Eight()Three()One(),Seven()Jack()}^{Six()~Eig...   \n",
       "1  {Eight()Three()One(),Seven()Jack()}^{Six()~Eig...   \n",
       "2  {Eight()Three()One(),Seven()Jack()}^{Six()~Eig...   \n",
       "3  {Eight()Three()One(),Seven()Jack()}^{Six()~Eig...   \n",
       "4  {Eight()Three()One(),Seven()Jack()}^{Six()~Eig...   \n",
       "\n",
       "                                                  p2  \\\n",
       "0  {Eight()Three()One(),Seven()Jack()}^{Six()~Eig...   \n",
       "1                                  {Six()Seven()}^{}   \n",
       "2  {One(),Nine(),Seven()}^{Nine()Four(),One()Four()}   \n",
       "3  {Nine()Two(),Eight()Jack()}^{Three()Five(),Two...   \n",
       "4                 {Five(),~King(),Three()Seven()}^{}   \n",
       "\n",
       "                                               p1_nl  \\\n",
       "0  if either there is a six and not an eight and ...   \n",
       "1  if either there is a six and not an eight and ...   \n",
       "2  if either there is a six and not an eight and ...   \n",
       "3  if either there is a six and not an eight and ...   \n",
       "4  if either there is a six and not an eight and ...   \n",
       "\n",
       "                                               p2_nl  \\\n",
       "0  if either there is a six and not an eight and ...   \n",
       "1                         there is a six and a seven   \n",
       "2  if either there is a nine and a four, or there...   \n",
       "3  if either there is a three and a five, or ther...   \n",
       "4  either there is a five, or there is not a king...   \n",
       "\n",
       "                                  etr_c  \n",
       "0  {0,One()Eight()Three()Seven()Jack()}  \n",
       "1                      {0,Six()Seven()}  \n",
       "2      {0,~Four()~One(),~Four()~Nine()}  \n",
       "3              {0,Three()One(),Seven()}  \n",
       "4     {0,Five(),~King(),Three()Seven()}  "
      ]
     },
     "execution_count": 22,
     "metadata": {},
     "output_type": "execute_result"
    }
   ],
   "source": [
    "df.head()"
   ]
  },
  {
   "cell_type": "code",
   "execution_count": 23,
   "metadata": {},
   "outputs": [
    {
     "data": {
      "text/html": [
       "<div>\n",
       "<style scoped>\n",
       "    .dataframe tbody tr th:only-of-type {\n",
       "        vertical-align: middle;\n",
       "    }\n",
       "\n",
       "    .dataframe tbody tr th {\n",
       "        vertical-align: top;\n",
       "    }\n",
       "\n",
       "    .dataframe thead th {\n",
       "        text-align: right;\n",
       "    }\n",
       "</style>\n",
       "<table border=\"1\" class=\"dataframe\">\n",
       "  <thead>\n",
       "    <tr style=\"text-align: right;\">\n",
       "      <th></th>\n",
       "      <th>p1</th>\n",
       "      <th>p2</th>\n",
       "      <th>p1_nl</th>\n",
       "      <th>p2_nl</th>\n",
       "      <th>etr_c</th>\n",
       "    </tr>\n",
       "  </thead>\n",
       "  <tbody>\n",
       "  </tbody>\n",
       "</table>\n",
       "</div>"
      ],
      "text/plain": [
       "Empty DataFrame\n",
       "Columns: [p1, p2, p1_nl, p2_nl, etr_c]\n",
       "Index: []"
      ]
     },
     "execution_count": 23,
     "metadata": {},
     "output_type": "execute_result"
    }
   ],
   "source": [
    "cat_c_df = df[df[\"etr_c\"].apply(lambda x: len(x.stage) == 1 and not x.is_verum)]\n",
    "cat_c_df[\n",
    "    (cat_c_df[\"p2\"].apply(lambda x: len(x.stage) > 1)) &\n",
    "    (cat_c_df[\"p1\"].apply(lambda x: len(x.stage) > 1))\n",
    "]"
   ]
  },
  {
   "cell_type": "code",
   "execution_count": null,
   "metadata": {},
   "outputs": [],
   "source": []
  }
 ],
 "metadata": {
  "kernelspec": {
   "display_name": ".venv",
   "language": "python",
   "name": "python3"
  },
  "language_info": {
   "codemirror_mode": {
    "name": "ipython",
    "version": 3
   },
   "file_extension": ".py",
   "mimetype": "text/x-python",
   "name": "python",
   "nbconvert_exporter": "python",
   "pygments_lexer": "ipython3",
   "version": "3.12.5"
  }
 },
 "nbformat": 4,
 "nbformat_minor": 2
}
