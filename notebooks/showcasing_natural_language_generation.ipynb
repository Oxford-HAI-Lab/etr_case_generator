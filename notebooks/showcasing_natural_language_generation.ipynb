{
 "cells": [
  {
   "cell_type": "code",
   "execution_count": 1,
   "metadata": {},
   "outputs": [],
   "source": [
    "import random\n",
    "import pyetr\n",
    "\n",
    "from etr_case_generator.view_to_natural_language import view_to_natural_language\n",
    "from etr_case_generator.ontology import get_all_ontologies\n",
    "from pyetr import View"
   ]
  },
  {
   "cell_type": "code",
   "execution_count": 3,
   "metadata": {},
   "outputs": [],
   "source": [
    "ontologies = get_all_ontologies()"
   ]
  },
  {
   "cell_type": "code",
   "execution_count": 14,
   "metadata": {},
   "outputs": [
    {
     "name": "stdout",
     "output_type": "stream",
     "text": [
      "{P(x()) Q(x()), R(x()) S(x())}\n",
      "either phoenixling is firebreathing and phoenixling is crystal-forming, or phoenixling is dream-affecting and phoenixling is moonlight-glowing\n",
      "either x is P and x is Q, or x is R and x is S\n"
     ]
    }
   ],
   "source": [
    "view_str = \"{P(x()) Q(x()), R(x()) S(x())}\"\n",
    "print(view_str)\n",
    "print(view_to_natural_language(\n",
    "    view=View.from_str(view_str),\n",
    "    ontology=random.choice(ontologies),\n",
    ")[0])\n",
    "print(View.from_str(view_str).to_english())"
   ]
  },
  {
   "cell_type": "code",
   "execution_count": 15,
   "metadata": {},
   "outputs": [
    {
     "name": "stdout",
     "output_type": "stream",
     "text": [
      "{P(x()) Q(x()), R(x()) S(x()), T(x()) U(x())}\n",
      "either gravitron is time-dilating and gravitron is magnetic, or gravitron is luminescent and gravitron is electrically insulating, or gravitron is anti-matter reactive and gravitron is acidic\n",
      "either x is P and x is Q, or x is R and x is S, or x is T and x is U\n"
     ]
    }
   ],
   "source": [
    "view_str = \"{P(x()) Q(x()), R(x()) S(x()), T(x()) U(x())}\"\n",
    "print(view_str)\n",
    "print(view_to_natural_language(\n",
    "    view=View.from_str(view_str),\n",
    "    ontology=random.choice(ontologies),\n",
    ")[0])\n",
    "print(View.from_str(view_str).to_english())"
   ]
  },
  {
   "cell_type": "code",
   "execution_count": 16,
   "metadata": {},
   "outputs": [
    {
     "name": "stdout",
     "output_type": "stream",
     "text": [
      "Ax {P(x), Q(c())}\n",
      "for all X, either X is quantum computing, or Sigma Hunter is form-shifting\n",
      "for all x, either x is P, or c is Q\n"
     ]
    }
   ],
   "source": [
    "view_str = \"Ax {P(x), Q(c())}\"\n",
    "print(view_str)\n",
    "print(view_to_natural_language(\n",
    "    view=View.from_str(view_str),\n",
    "    ontology=random.choice(ontologies),\n",
    ")[0])\n",
    "print(View.from_str(view_str).to_english())"
   ]
  },
  {
   "cell_type": "code",
   "execution_count": 17,
   "metadata": {},
   "outputs": [
    {
     "name": "stdout",
     "output_type": "stream",
     "text": [
      "Ax Ey Az {P(x) Q(y)}^{R(z)}\n",
      "for all X, there is some Y such that for all Z, if Z is red, then Y is marked and X is round\n",
      "for all x, there exists y such that for all z, if z is R, then y is Q and x is P\n"
     ]
    }
   ],
   "source": [
    "view_str = \"Ax Ey Az {P(x) Q(y)}^{R(z)}\"\n",
    "print(view_str)\n",
    "print(view_to_natural_language(\n",
    "    view=View.from_str(view_str),\n",
    "    ontology=random.choice(ontologies),\n",
    ")[0])\n",
    "print(View.from_str(view_str).to_english())"
   ]
  },
  {
   "cell_type": "code",
   "execution_count": 18,
   "metadata": {},
   "outputs": [
    {
     "name": "stdout",
     "output_type": "stream",
     "text": [
      "{P(z()), R(y()), P(y()) Q(z())}^{P(x()) Q(y()), R(z())}\n",
      "if either infinitum is void-creating, or quantix is time-reversing and chronoton is omnipresent, then either infinitum is time-reversing and quantix is omnipresent, or quantix is void-creating, or infinitum is omnipresent\n",
      "if either x is P and y is Q, or z is R, then either y is P and z is Q, or z is P, or y is R\n"
     ]
    }
   ],
   "source": [
    "view_str = \"{P(z()), R(y()), P(y()) Q(z())}^{P(x()) Q(y()), R(z())}\"\n",
    "print(view_str)\n",
    "print(view_to_natural_language(\n",
    "    view=View.from_str(view_str),\n",
    "    ontology=random.choice(ontologies),\n",
    ")[0])\n",
    "print(View.from_str(view_str).to_english())"
   ]
  },
  {
   "cell_type": "code",
   "execution_count": null,
   "metadata": {},
   "outputs": [],
   "source": []
  }
 ],
 "metadata": {
  "kernelspec": {
   "display_name": ".venv",
   "language": "python",
   "name": "python3"
  },
  "language_info": {
   "codemirror_mode": {
    "name": "ipython",
    "version": 3
   },
   "file_extension": ".py",
   "mimetype": "text/x-python",
   "name": "python",
   "nbconvert_exporter": "python",
   "pygments_lexer": "ipython3",
   "version": "3.12.5"
  }
 },
 "nbformat": 4,
 "nbformat_minor": 2
}
